{
  "nbformat": 4,
  "nbformat_minor": 0,
  "metadata": {
    "colab": {
      "provenance": [],
      "gpuType": "T4"
    },
    "kernelspec": {
      "name": "python3",
      "display_name": "Python 3"
    },
    "language_info": {
      "name": "python"
    },
    "accelerator": "GPU"
  },
  "cells": [
    {
      "cell_type": "markdown",
      "source": [
        "Installing required packages"
      ],
      "metadata": {
        "id": "1_R2SwZ148f3"
      }
    },
    {
      "cell_type": "code",
      "source": [
        "!pip install scikit-uplift"
      ],
      "metadata": {
        "colab": {
          "base_uri": "https://localhost:8080/"
        },
        "id": "molCNoiUof59",
        "outputId": "09aab803-b5cf-466f-8246-62f2d3888f2e"
      },
      "execution_count": 1,
      "outputs": [
        {
          "output_type": "stream",
          "name": "stdout",
          "text": [
            "Collecting scikit-uplift\n",
            "  Downloading scikit_uplift-0.5.1-py3-none-any.whl (42 kB)\n",
            "\u001b[2K     \u001b[90m━━━━━━━━━━━━━━━━━━━━━━━━━━━━━━━━━━━━━━━━\u001b[0m \u001b[32m42.1/42.1 kB\u001b[0m \u001b[31m1.7 MB/s\u001b[0m eta \u001b[36m0:00:00\u001b[0m\n",
            "\u001b[?25hRequirement already satisfied: scikit-learn>=0.21.0 in /usr/local/lib/python3.10/dist-packages (from scikit-uplift) (1.2.2)\n",
            "Requirement already satisfied: numpy>=1.16 in /usr/local/lib/python3.10/dist-packages (from scikit-uplift) (1.23.5)\n",
            "Requirement already satisfied: pandas in /usr/local/lib/python3.10/dist-packages (from scikit-uplift) (1.5.3)\n",
            "Requirement already satisfied: matplotlib in /usr/local/lib/python3.10/dist-packages (from scikit-uplift) (3.7.1)\n",
            "Requirement already satisfied: requests in /usr/local/lib/python3.10/dist-packages (from scikit-uplift) (2.31.0)\n",
            "Requirement already satisfied: tqdm in /usr/local/lib/python3.10/dist-packages (from scikit-uplift) (4.66.1)\n",
            "Requirement already satisfied: scipy>=1.3.2 in /usr/local/lib/python3.10/dist-packages (from scikit-learn>=0.21.0->scikit-uplift) (1.11.3)\n",
            "Requirement already satisfied: joblib>=1.1.1 in /usr/local/lib/python3.10/dist-packages (from scikit-learn>=0.21.0->scikit-uplift) (1.3.2)\n",
            "Requirement already satisfied: threadpoolctl>=2.0.0 in /usr/local/lib/python3.10/dist-packages (from scikit-learn>=0.21.0->scikit-uplift) (3.2.0)\n",
            "Requirement already satisfied: contourpy>=1.0.1 in /usr/local/lib/python3.10/dist-packages (from matplotlib->scikit-uplift) (1.1.1)\n",
            "Requirement already satisfied: cycler>=0.10 in /usr/local/lib/python3.10/dist-packages (from matplotlib->scikit-uplift) (0.12.0)\n",
            "Requirement already satisfied: fonttools>=4.22.0 in /usr/local/lib/python3.10/dist-packages (from matplotlib->scikit-uplift) (4.43.0)\n",
            "Requirement already satisfied: kiwisolver>=1.0.1 in /usr/local/lib/python3.10/dist-packages (from matplotlib->scikit-uplift) (1.4.5)\n",
            "Requirement already satisfied: packaging>=20.0 in /usr/local/lib/python3.10/dist-packages (from matplotlib->scikit-uplift) (23.1)\n",
            "Requirement already satisfied: pillow>=6.2.0 in /usr/local/lib/python3.10/dist-packages (from matplotlib->scikit-uplift) (9.4.0)\n",
            "Requirement already satisfied: pyparsing>=2.3.1 in /usr/local/lib/python3.10/dist-packages (from matplotlib->scikit-uplift) (3.1.1)\n",
            "Requirement already satisfied: python-dateutil>=2.7 in /usr/local/lib/python3.10/dist-packages (from matplotlib->scikit-uplift) (2.8.2)\n",
            "Requirement already satisfied: pytz>=2020.1 in /usr/local/lib/python3.10/dist-packages (from pandas->scikit-uplift) (2023.3.post1)\n",
            "Requirement already satisfied: charset-normalizer<4,>=2 in /usr/local/lib/python3.10/dist-packages (from requests->scikit-uplift) (3.2.0)\n",
            "Requirement already satisfied: idna<4,>=2.5 in /usr/local/lib/python3.10/dist-packages (from requests->scikit-uplift) (3.4)\n",
            "Requirement already satisfied: urllib3<3,>=1.21.1 in /usr/local/lib/python3.10/dist-packages (from requests->scikit-uplift) (2.0.5)\n",
            "Requirement already satisfied: certifi>=2017.4.17 in /usr/local/lib/python3.10/dist-packages (from requests->scikit-uplift) (2023.7.22)\n",
            "Requirement already satisfied: six>=1.5 in /usr/local/lib/python3.10/dist-packages (from python-dateutil>=2.7->matplotlib->scikit-uplift) (1.16.0)\n",
            "Installing collected packages: scikit-uplift\n",
            "Successfully installed scikit-uplift-0.5.1\n"
          ]
        }
      ]
    },
    {
      "cell_type": "code",
      "source": [
        "!pip install catboost"
      ],
      "metadata": {
        "colab": {
          "base_uri": "https://localhost:8080/"
        },
        "id": "yIgbja9UpkIx",
        "outputId": "37a8578c-8699-40bc-eb9e-f652d901863a"
      },
      "execution_count": 2,
      "outputs": [
        {
          "output_type": "stream",
          "name": "stdout",
          "text": [
            "Collecting catboost\n",
            "  Downloading catboost-1.2.2-cp310-cp310-manylinux2014_x86_64.whl (98.7 MB)\n",
            "\u001b[2K     \u001b[90m━━━━━━━━━━━━━━━━━━━━━━━━━━━━━━━━━━━━━━━━\u001b[0m \u001b[32m98.7/98.7 MB\u001b[0m \u001b[31m2.4 MB/s\u001b[0m eta \u001b[36m0:00:00\u001b[0m\n",
            "\u001b[?25hRequirement already satisfied: graphviz in /usr/local/lib/python3.10/dist-packages (from catboost) (0.20.1)\n",
            "Requirement already satisfied: matplotlib in /usr/local/lib/python3.10/dist-packages (from catboost) (3.7.1)\n",
            "Requirement already satisfied: numpy>=1.16.0 in /usr/local/lib/python3.10/dist-packages (from catboost) (1.23.5)\n",
            "Requirement already satisfied: pandas>=0.24 in /usr/local/lib/python3.10/dist-packages (from catboost) (1.5.3)\n",
            "Requirement already satisfied: scipy in /usr/local/lib/python3.10/dist-packages (from catboost) (1.11.3)\n",
            "Requirement already satisfied: plotly in /usr/local/lib/python3.10/dist-packages (from catboost) (5.15.0)\n",
            "Requirement already satisfied: six in /usr/local/lib/python3.10/dist-packages (from catboost) (1.16.0)\n",
            "Requirement already satisfied: python-dateutil>=2.8.1 in /usr/local/lib/python3.10/dist-packages (from pandas>=0.24->catboost) (2.8.2)\n",
            "Requirement already satisfied: pytz>=2020.1 in /usr/local/lib/python3.10/dist-packages (from pandas>=0.24->catboost) (2023.3.post1)\n",
            "Requirement already satisfied: contourpy>=1.0.1 in /usr/local/lib/python3.10/dist-packages (from matplotlib->catboost) (1.1.1)\n",
            "Requirement already satisfied: cycler>=0.10 in /usr/local/lib/python3.10/dist-packages (from matplotlib->catboost) (0.12.0)\n",
            "Requirement already satisfied: fonttools>=4.22.0 in /usr/local/lib/python3.10/dist-packages (from matplotlib->catboost) (4.43.0)\n",
            "Requirement already satisfied: kiwisolver>=1.0.1 in /usr/local/lib/python3.10/dist-packages (from matplotlib->catboost) (1.4.5)\n",
            "Requirement already satisfied: packaging>=20.0 in /usr/local/lib/python3.10/dist-packages (from matplotlib->catboost) (23.1)\n",
            "Requirement already satisfied: pillow>=6.2.0 in /usr/local/lib/python3.10/dist-packages (from matplotlib->catboost) (9.4.0)\n",
            "Requirement already satisfied: pyparsing>=2.3.1 in /usr/local/lib/python3.10/dist-packages (from matplotlib->catboost) (3.1.1)\n",
            "Requirement already satisfied: tenacity>=6.2.0 in /usr/local/lib/python3.10/dist-packages (from plotly->catboost) (8.2.3)\n",
            "Installing collected packages: catboost\n",
            "Successfully installed catboost-1.2.2\n"
          ]
        }
      ]
    },
    {
      "cell_type": "code",
      "source": [
        "!pip install lightgbm"
      ],
      "metadata": {
        "colab": {
          "base_uri": "https://localhost:8080/"
        },
        "id": "Ucg57voh2eEi",
        "outputId": "ceb4ae69-40f5-4e77-f764-5b6377a792a6"
      },
      "execution_count": 3,
      "outputs": [
        {
          "output_type": "stream",
          "name": "stdout",
          "text": [
            "Requirement already satisfied: lightgbm in /usr/local/lib/python3.10/dist-packages (4.0.0)\n",
            "Requirement already satisfied: numpy in /usr/local/lib/python3.10/dist-packages (from lightgbm) (1.23.5)\n",
            "Requirement already satisfied: scipy in /usr/local/lib/python3.10/dist-packages (from lightgbm) (1.11.3)\n"
          ]
        }
      ]
    },
    {
      "cell_type": "code",
      "execution_count": 4,
      "metadata": {
        "id": "GEi8ADr1tsHy"
      },
      "outputs": [],
      "source": [
        "import numpy as np\n",
        "import pandas as pd\n",
        "import torch\n",
        "import sklift"
      ]
    },
    {
      "cell_type": "markdown",
      "source": [
        "Helping Functions"
      ],
      "metadata": {
        "id": "Z3pF68n_046W"
      }
    },
    {
      "cell_type": "code",
      "source": [
        "from sklift.metrics import (\n",
        "    uplift_at_k, uplift_auc_score, qini_auc_score, weighted_average_uplift\n",
        ")\n",
        "\n",
        "def calculate_uplift_metrics(model, features_test, labels_test, treat_test, k=0.3):\n",
        "    uplift_predictions = model.predict(features_test.iloc[:, :-2])  # Assuming the last two columns are not used\n",
        "    trmnt_val = treat_test\n",
        "\n",
        "    uplift_at_k_value = uplift_at_k(y_true=labels_test, uplift=uplift_predictions,\n",
        "                                    treatment=trmnt_val,\n",
        "                                    strategy='overall', k=k)\n",
        "\n",
        "    qini_auc = qini_auc_score(y_true=labels_test, uplift=uplift_predictions,\n",
        "                              treatment=trmnt_val)\n",
        "\n",
        "    uplift_auc = uplift_auc_score(y_true=labels_test, uplift=uplift_predictions,\n",
        "                                  treatment=trmnt_val)\n",
        "\n",
        "    weighted_avg_uplift = weighted_average_uplift(y_true=labels_test, uplift=uplift_predictions,\n",
        "                                                  treatment=trmnt_val)\n",
        "\n",
        "    metrics = {\n",
        "        \"Uplift@30%\": uplift_at_k_value,\n",
        "        \"Area Under Qini Curve\": qini_auc,\n",
        "        \"Area Under Uplift Curve\": uplift_auc,\n",
        "        \"Weighted Average Uplift\": weighted_avg_uplift\n",
        "    }\n",
        "\n",
        "    return metrics"
      ],
      "metadata": {
        "id": "c9ybpEJn08EH"
      },
      "execution_count": 5,
      "outputs": []
    },
    {
      "cell_type": "code",
      "source": [
        "def generate_submission_data(model, scaler, cols_to_scale, df_eval):\n",
        "    submission_data = pd.DataFrame(columns=['customer', 'merchant', 'predicted_score'])\n",
        "\n",
        "    for chunk in df_eval:\n",
        "        chunk[cols_to_scale] = imputer.fit_transform(chunk[cols_to_scale])\n",
        "        chunk[cols_to_scale] = scaler.transform(chunk[cols_to_scale])\n",
        "        uplift_predictions = model.predict(chunk[cols_to_scale])\n",
        "        chunk_predictions = pd.DataFrame({\n",
        "            'customer': chunk['customer'],\n",
        "            'merchant': chunk['merchant'],\n",
        "            'predicted_score': uplift_predictions\n",
        "        })\n",
        "\n",
        "        submission_data = pd.concat([submission_data, chunk_predictions], ignore_index=True, axis=0)\n",
        "\n",
        "    return submission_data"
      ],
      "metadata": {
        "id": "3vtnIug11vd1"
      },
      "execution_count": 7,
      "outputs": []
    },
    {
      "cell_type": "markdown",
      "source": [
        "Preprocessing"
      ],
      "metadata": {
        "id": "FTG7HR591xSQ"
      }
    },
    {
      "cell_type": "code",
      "source": [
        "df = pd.read_csv('/content/drive/MyDrive/Amex_Super_Bowl/Amex_Campus_Challenge_Train.csv', chunksize = 1000000)"
      ],
      "metadata": {
        "id": "5ZY3DxqqEPma"
      },
      "execution_count": null,
      "outputs": []
    },
    {
      "cell_type": "code",
      "source": [
        "import pandas as pd\n",
        "\n",
        "# Read the CSV file in chunks\n",
        "for chunk in df :\n",
        "\n",
        "    # Or perform operations on the chunk\n",
        "    # For instance, calculating the mean of a column\n",
        "    table=chunk.groupby(['ind_recommended']).agg({'activation':['mean','sum','count']})\n",
        "    print(table)\n",
        "    # Continue with your desired operations on this chunk\n",
        "    # ..."
      ],
      "metadata": {
        "colab": {
          "base_uri": "https://localhost:8080/"
        },
        "id": "ngQw6Ig4SMib",
        "outputId": "40bd394f-32c4-4c2d-ceda-f3646b847968"
      },
      "execution_count": null,
      "outputs": [
        {
          "output_type": "stream",
          "name": "stdout",
          "text": [
            "                activation            \n",
            "                      mean sum   count\n",
            "ind_recommended                       \n",
            "0                      0.0   0  873555\n",
            "1                      0.0   0  126445\n",
            "                activation            \n",
            "                      mean sum   count\n",
            "ind_recommended                       \n",
            "0                      0.0   0  873334\n",
            "1                      0.0   0  126666\n",
            "                activation            \n",
            "                      mean sum   count\n",
            "ind_recommended                       \n",
            "0                      0.0   0  873734\n",
            "1                      0.0   0  126266\n",
            "                activation            \n",
            "                      mean sum   count\n",
            "ind_recommended                       \n",
            "0                      0.0   0  873000\n",
            "1                      0.0   0  127000\n",
            "                activation            \n",
            "                      mean sum   count\n",
            "ind_recommended                       \n",
            "0                      0.0   0  873947\n",
            "1                      0.0   0  126053\n",
            "                activation            \n",
            "                      mean sum   count\n",
            "ind_recommended                       \n",
            "0                      0.0   0  873858\n",
            "1                      0.0   0  126142\n",
            "                activation            \n",
            "                      mean sum   count\n",
            "ind_recommended                       \n",
            "0                      0.0   0  872655\n",
            "1                      0.0   0  127345\n",
            "                activation            \n",
            "                      mean sum   count\n",
            "ind_recommended                       \n",
            "0                      0.0   0  873845\n",
            "1                      0.0   0  126155\n",
            "                activation            \n",
            "                      mean sum   count\n",
            "ind_recommended                       \n",
            "0                      0.0   0  873592\n",
            "1                      0.0   0  126408\n",
            "                activation            \n",
            "                      mean sum   count\n",
            "ind_recommended                       \n",
            "0                      0.0   0  874097\n",
            "1                      0.0   0  125903\n",
            "                activation               \n",
            "                      mean    sum   count\n",
            "ind_recommended                          \n",
            "0                 0.300909  60173  199971\n",
            "1                 0.328023   9843   30007\n"
          ]
        }
      ]
    },
    {
      "cell_type": "code",
      "source": [
        "# Quiet imbalanced dataset in terms of"
      ],
      "metadata": {
        "id": "86uEwryJ8Lal"
      },
      "execution_count": null,
      "outputs": []
    },
    {
      "cell_type": "code",
      "source": [
        "# Get the specific chunk using the get_chunk() method\n",
        "last_chunk = chunk"
      ],
      "metadata": {
        "id": "D1npvdy1FkZm"
      },
      "execution_count": null,
      "outputs": []
    },
    {
      "cell_type": "markdown",
      "source": [],
      "metadata": {
        "id": "XSAQoqvKZjI-"
      }
    },
    {
      "cell_type": "code",
      "source": [
        "chunk.info()"
      ],
      "metadata": {
        "colab": {
          "base_uri": "https://localhost:8080/"
        },
        "id": "sjMNFsO5xHAj",
        "outputId": "35c9d2ef-6be0-4218-cb2e-b3941b27f51e"
      },
      "execution_count": null,
      "outputs": [
        {
          "metadata": {
            "tags": null
          },
          "name": "stdout",
          "output_type": "stream",
          "text": [
            "<class 'pandas.core.frame.DataFrame'>\n",
            "RangeIndex: 229978 entries, 12000000 to 12229977\n",
            "Data columns (total 71 columns):\n",
            " #   Column                        Non-Null Count   Dtype  \n",
            "---  ------                        --------------   -----  \n",
            " 0   ind_recommended               229978 non-null  int64  \n",
            " 1   activation                    229978 non-null  int64  \n",
            " 2   customer_digital_activity_04  47071 non-null   float64\n",
            " 3   customer_spend_01             201773 non-null  float64\n",
            " 4   customer_industry_spend_01    145113 non-null  float64\n",
            " 5   customer_industry_spend_02    145113 non-null  float64\n",
            " 6   customer_industry_spend_03    145113 non-null  float64\n",
            " 7   customer_industry_spend_04    145113 non-null  float64\n",
            " 8   customer_industry_spend_05    145113 non-null  float64\n",
            " 9   customer_spend_02             201773 non-null  float64\n",
            " 10  customer_spend_03             217269 non-null  float64\n",
            " 11  customer_merchant_02          8277 non-null    float64\n",
            " 12  customer_merchant_01          8277 non-null    float64\n",
            " 13  customer_spend_04             115748 non-null  float64\n",
            " 14  customer_spend_05             217269 non-null  float64\n",
            " 15  customer_spend_06             221764 non-null  float64\n",
            " 16  customer_spend_07             221764 non-null  float64\n",
            " 17  merchant_spend_01             192709 non-null  float64\n",
            " 18  merchant_spend_02             192709 non-null  float64\n",
            " 19  merchant_spend_03             192709 non-null  float64\n",
            " 20  merchant_spend_04             192709 non-null  float64\n",
            " 21  merchant_spend_05             192709 non-null  float64\n",
            " 22  merchant_spend_06             217582 non-null  float64\n",
            " 23  merchant_spend_07             192709 non-null  float64\n",
            " 24  merchant_spend_08             192709 non-null  float64\n",
            " 25  merchant_profile_01           217599 non-null  float64\n",
            " 26  customer_merchant_03          174551 non-null  float64\n",
            " 27  customer_profile_01           229947 non-null  float64\n",
            " 28  customer_profile_02           229947 non-null  float64\n",
            " 29  customer_digital_activity_05  84305 non-null   float64\n",
            " 30  customer_spend_13             138567 non-null  float64\n",
            " 31  customer_digital_activity_06  84305 non-null   float64\n",
            " 32  customer_spend_14             87294 non-null   float64\n",
            " 33  customer_digital_activity_07  3797 non-null    float64\n",
            " 34  customer_digital_activity_08  3797 non-null    float64\n",
            " 35  customer_digital_activity_09  3797 non-null    float64\n",
            " 36  customer_digital_activity_10  84305 non-null   float64\n",
            " 37  customer_digital_activity_11  84305 non-null   float64\n",
            " 38  customer_digital_activity_12  84305 non-null   float64\n",
            " 39  customer_digital_activity_13  84305 non-null   float64\n",
            " 40  customer_digital_activity_14  84305 non-null   float64\n",
            " 41  customer_digital_activity_15  84305 non-null   float64\n",
            " 42  customer_spend_15             87951 non-null   float64\n",
            " 43  customer_digital_activity_16  84305 non-null   float64\n",
            " 44  customer_spend_16             138567 non-null  float64\n",
            " 45  customer_spend_17             87951 non-null   float64\n",
            " 46  customer_digital_activity_17  84305 non-null   float64\n",
            " 47  customer_digital_activity_03  108987 non-null  float64\n",
            " 48  merchant_spend_11             35380 non-null   float64\n",
            " 49  customer_digital_activity_18  3797 non-null    float64\n",
            " 50  customer_digital_activity_19  79950 non-null   float64\n",
            " 51  distance_01                   113391 non-null  float64\n",
            " 52  customer_digital_activity_20  96852 non-null   float64\n",
            " 53  distance_02                   120125 non-null  float64\n",
            " 54  distance_03                   120125 non-null  float64\n",
            " 55  customer_spend_18             136667 non-null  float64\n",
            " 56  customer_spend_19             138886 non-null  float64\n",
            " 57  customer_digital_activity_21  144882 non-null  float64\n",
            " 58  customer_digital_activity_22  148355 non-null  float64\n",
            " 59  distance_04                   200003 non-null  float64\n",
            " 60  merchant_profile_02           204356 non-null  float64\n",
            " 61  merchant_spend_09             209711 non-null  float64\n",
            " 62  merchant_profile_03           209711 non-null  float64\n",
            " 63  customer_digital_activity_01  218514 non-null  float64\n",
            " 64  merchant_spend_10             224614 non-null  float64\n",
            " 65  customer_profile_03           228752 non-null  float64\n",
            " 66  customer_digital_activity_02  229498 non-null  float64\n",
            " 67  customer_profile_04           229911 non-null  float64\n",
            " 68  distance_05                   229978 non-null  float64\n",
            " 69  customer                      229978 non-null  int64  \n",
            " 70  merchant                      229978 non-null  int64  \n",
            "dtypes: float64(67), int64(4)\n",
            "memory usage: 124.6 MB\n"
          ]
        }
      ]
    },
    {
      "cell_type": "code",
      "source": [
        "chunk.columns"
      ],
      "metadata": {
        "colab": {
          "base_uri": "https://localhost:8080/"
        },
        "id": "RNEIf-zfxzIy",
        "outputId": "988d927b-d4d0-45ed-8b82-4b19afbd8762"
      },
      "execution_count": null,
      "outputs": [
        {
          "data": {
            "text/plain": [
              "Index(['ind_recommended', 'activation', 'customer_digital_activity_04',\n",
              "       'customer_spend_01', 'customer_industry_spend_01',\n",
              "       'customer_industry_spend_02', 'customer_industry_spend_03',\n",
              "       'customer_industry_spend_04', 'customer_industry_spend_05',\n",
              "       'customer_spend_02', 'customer_spend_03', 'customer_merchant_02',\n",
              "       'customer_merchant_01', 'customer_spend_04', 'customer_spend_05',\n",
              "       'customer_spend_06', 'customer_spend_07', 'merchant_spend_01',\n",
              "       'merchant_spend_02', 'merchant_spend_03', 'merchant_spend_04',\n",
              "       'merchant_spend_05', 'merchant_spend_06', 'merchant_spend_07',\n",
              "       'merchant_spend_08', 'merchant_profile_01', 'customer_merchant_03',\n",
              "       'customer_profile_01', 'customer_profile_02',\n",
              "       'customer_digital_activity_05', 'customer_spend_13',\n",
              "       'customer_digital_activity_06', 'customer_spend_14',\n",
              "       'customer_digital_activity_07', 'customer_digital_activity_08',\n",
              "       'customer_digital_activity_09', 'customer_digital_activity_10',\n",
              "       'customer_digital_activity_11', 'customer_digital_activity_12',\n",
              "       'customer_digital_activity_13', 'customer_digital_activity_14',\n",
              "       'customer_digital_activity_15', 'customer_spend_15',\n",
              "       'customer_digital_activity_16', 'customer_spend_16',\n",
              "       'customer_spend_17', 'customer_digital_activity_17',\n",
              "       'customer_digital_activity_03', 'merchant_spend_11',\n",
              "       'customer_digital_activity_18', 'customer_digital_activity_19',\n",
              "       'distance_01', 'customer_digital_activity_20', 'distance_02',\n",
              "       'distance_03', 'customer_spend_18', 'customer_spend_19',\n",
              "       'customer_digital_activity_21', 'customer_digital_activity_22',\n",
              "       'distance_04', 'merchant_profile_02', 'merchant_spend_09',\n",
              "       'merchant_profile_03', 'customer_digital_activity_01',\n",
              "       'merchant_spend_10', 'customer_profile_03',\n",
              "       'customer_digital_activity_02', 'customer_profile_04', 'distance_05',\n",
              "       'customer', 'merchant'],\n",
              "      dtype='object')"
            ]
          },
          "execution_count": 11,
          "metadata": {},
          "output_type": "execute_result"
        }
      ]
    },
    {
      "cell_type": "code",
      "source": [
        "chunk.isna().sum()"
      ],
      "metadata": {
        "colab": {
          "base_uri": "https://localhost:8080/"
        },
        "id": "KgJSXWyFzikd",
        "outputId": "3a53b65c-36a5-417d-ba9f-bec955259fac"
      },
      "execution_count": null,
      "outputs": [
        {
          "output_type": "execute_result",
          "data": {
            "text/plain": [
              "ind_recommended                      0\n",
              "activation                           0\n",
              "customer_digital_activity_04    182907\n",
              "customer_spend_01                28205\n",
              "customer_industry_spend_01       84865\n",
              "                                 ...  \n",
              "customer_digital_activity_02       480\n",
              "customer_profile_04                 67\n",
              "distance_05                          0\n",
              "customer                             0\n",
              "merchant                             0\n",
              "Length: 71, dtype: int64"
            ]
          },
          "metadata": {},
          "execution_count": 14
        }
      ]
    },
    {
      "cell_type": "code",
      "source": [
        "from google.colab import  drive\n",
        "drive.mount('/drive')\n",
        "chunk.to_csv('/drive/My Drive/Amex_train_set_compressed_chunk.csv', index=False)"
      ],
      "metadata": {
        "colab": {
          "base_uri": "https://localhost:8080/"
        },
        "id": "mgnQnsIwtsVo",
        "outputId": "e75bbcdc-2800-43e2-df21-44080c4cdab9"
      },
      "execution_count": 8,
      "outputs": [
        {
          "output_type": "stream",
          "name": "stdout",
          "text": [
            "Mounted at /drive\n"
          ]
        }
      ]
    },
    {
      "cell_type": "code",
      "source": [
        "chunk = pd.read_csv('/content/drive/MyDrive/Amex_train_set_compressed_chunk.csv')"
      ],
      "metadata": {
        "id": "z6oQ53z3uwYy"
      },
      "execution_count": 8,
      "outputs": []
    },
    {
      "cell_type": "code",
      "source": [
        "print(chunk.groupby(['ind_recommended']).agg({'activation':['mean','sum','count']}))"
      ],
      "metadata": {
        "colab": {
          "base_uri": "https://localhost:8080/"
        },
        "id": "Rc6KzwesprPM",
        "outputId": "09e8e313-8168-45e7-eff2-3e59cfbb6d40"
      },
      "execution_count": 9,
      "outputs": [
        {
          "output_type": "stream",
          "name": "stdout",
          "text": [
            "                activation               \n",
            "                      mean    sum   count\n",
            "ind_recommended                          \n",
            "0                 0.300909  60173  199971\n",
            "1                 0.328023   9843   30007\n"
          ]
        }
      ]
    },
    {
      "cell_type": "markdown",
      "source": [
        "Sampling"
      ],
      "metadata": {
        "id": "EZdmzs6E-Mye"
      }
    },
    {
      "cell_type": "code",
      "source": [
        "chunk_1 = chunk[(chunk['ind_recommended']==0) & (chunk['activation']==1)]\n",
        "chunk_2 = chunk[(chunk['ind_recommended']==0) & (chunk['activation']==0)]\n",
        "chunk_3 = chunk[(chunk['ind_recommended']==1) & (chunk['activation']==1)]\n",
        "chunk_4 = chunk[(chunk['ind_recommended']==1) & (chunk['activation']==0)]"
      ],
      "metadata": {
        "id": "3NgT3bjK7073"
      },
      "execution_count": 10,
      "outputs": []
    },
    {
      "cell_type": "code",
      "source": [
        "#sampling\n",
        "chunk_2 = chunk_2.sample(n=len(chunk_3)*2, replace = True)\n",
        "chunk_4 = chunk_4.sample(n=len(chunk_3)*2, replace = True)\n",
        "chunk_3=  chunk_3.sample(n=len(chunk_1), replace = True)\n",
        "chunk_sampled = pd.concat([chunk_1,chunk_2 ,chunk_3, chunk_4], axis=0)"
      ],
      "metadata": {
        "id": "omrp6TG76JGp"
      },
      "execution_count": 11,
      "outputs": []
    },
    {
      "cell_type": "markdown",
      "source": [
        "Imputing Null values"
      ],
      "metadata": {
        "id": "UMuXPG6e-kJZ"
      }
    },
    {
      "cell_type": "code",
      "source": [
        "from sklearn.impute import SimpleImputer\n",
        "import pandas as pd\n",
        "\n",
        "imputer = SimpleImputer(strategy='mean')\n",
        "cols_to_impute=chunk_sampled.columns[2:]\n",
        "\n",
        "chunk_sampled[cols_to_impute] = imputer.fit_transform(chunk_sampled[cols_to_impute])"
      ],
      "metadata": {
        "id": "sn5YsZbc6aQg"
      },
      "execution_count": 13,
      "outputs": []
    },
    {
      "cell_type": "code",
      "source": [
        "cols_to_impute"
      ],
      "metadata": {
        "colab": {
          "base_uri": "https://localhost:8080/"
        },
        "id": "t_6B_3m_FNvK",
        "outputId": "9e880c05-5059-4bb1-f22d-dad29383499c"
      },
      "execution_count": 14,
      "outputs": [
        {
          "output_type": "execute_result",
          "data": {
            "text/plain": [
              "Index(['customer_digital_activity_04', 'customer_spend_01',\n",
              "       'customer_industry_spend_01', 'customer_industry_spend_02',\n",
              "       'customer_industry_spend_03', 'customer_industry_spend_04',\n",
              "       'customer_industry_spend_05', 'customer_spend_02', 'customer_spend_03',\n",
              "       'customer_merchant_02', 'customer_merchant_01', 'customer_spend_04',\n",
              "       'customer_spend_05', 'customer_spend_06', 'customer_spend_07',\n",
              "       'merchant_spend_01', 'merchant_spend_02', 'merchant_spend_03',\n",
              "       'merchant_spend_04', 'merchant_spend_05', 'merchant_spend_06',\n",
              "       'merchant_spend_07', 'merchant_spend_08', 'merchant_profile_01',\n",
              "       'customer_merchant_03', 'customer_profile_01', 'customer_profile_02',\n",
              "       'customer_digital_activity_05', 'customer_spend_13',\n",
              "       'customer_digital_activity_06', 'customer_spend_14',\n",
              "       'customer_digital_activity_07', 'customer_digital_activity_08',\n",
              "       'customer_digital_activity_09', 'customer_digital_activity_10',\n",
              "       'customer_digital_activity_11', 'customer_digital_activity_12',\n",
              "       'customer_digital_activity_13', 'customer_digital_activity_14',\n",
              "       'customer_digital_activity_15', 'customer_spend_15',\n",
              "       'customer_digital_activity_16', 'customer_spend_16',\n",
              "       'customer_spend_17', 'customer_digital_activity_17',\n",
              "       'customer_digital_activity_03', 'merchant_spend_11',\n",
              "       'customer_digital_activity_18', 'customer_digital_activity_19',\n",
              "       'distance_01', 'customer_digital_activity_20', 'distance_02',\n",
              "       'distance_03', 'customer_spend_18', 'customer_spend_19',\n",
              "       'customer_digital_activity_21', 'customer_digital_activity_22',\n",
              "       'distance_04', 'merchant_profile_02', 'merchant_spend_09',\n",
              "       'merchant_profile_03', 'customer_digital_activity_01',\n",
              "       'merchant_spend_10', 'customer_profile_03',\n",
              "       'customer_digital_activity_02', 'customer_profile_04', 'distance_05',\n",
              "       'customer', 'merchant'],\n",
              "      dtype='object')"
            ]
          },
          "metadata": {},
          "execution_count": 14
        }
      ]
    },
    {
      "cell_type": "code",
      "source": [
        "import pandas as pd\n",
        "import sklift\n",
        "from sklearn.model_selection import train_test_split\n",
        "from sklearn.linear_model import LogisticRegression\n",
        "from sklearn.preprocessing import StandardScaler\n",
        "# Load your DataFrame with the columns you've provided\n",
        "# df = pd.read_csv(\"your_dataframe.csv\")\n",
        "\n",
        "# Prepare features and labels\n",
        "import pandas as pd\n",
        "\n",
        "# Assuming chunk_sampled is your DataFrame\n",
        "columns_to_drop = ['activation', 'ind_recommended']\n",
        "features = chunk_sampled.drop(columns=columns_to_drop)  # Drop the specified columns\n",
        "# Scale features except last two columns\n",
        "scaler = StandardScaler()\n",
        "\n",
        "# Exclude the last two columns\n",
        "cols_to_scale = features.columns[:-2]\n",
        "\n",
        "# Apply scaling to selected columns\n",
        "features[cols_to_scale] = scaler.fit_transform(features[cols_to_scale])\n",
        "labels = chunk_sampled['activation']\n",
        "treat = chunk_sampled['ind_recommended']\n",
        "\n",
        "# Split data into train and test sets\n",
        "features_train, features_test, labels_train, labels_test, treat_train, treat_test= train_test_split(\n",
        "    features,labels, treat, test_size=0.2, random_state=42\n",
        ")"
      ],
      "metadata": {
        "id": "qs-UszkG6kra"
      },
      "execution_count": 15,
      "outputs": []
    },
    {
      "cell_type": "code",
      "source": [
        "cols_to_scale.shape"
      ],
      "metadata": {
        "colab": {
          "base_uri": "https://localhost:8080/"
        },
        "id": "tCgh1P05wzOE",
        "outputId": "5a14a07b-e782-4aa7-a950-0088a0ea9840"
      },
      "execution_count": 14,
      "outputs": [
        {
          "output_type": "execute_result",
          "data": {
            "text/plain": [
              "(67,)"
            ]
          },
          "metadata": {},
          "execution_count": 14
        }
      ]
    },
    {
      "cell_type": "markdown",
      "source": [
        "Custom functions to check metric on train/validation set"
      ],
      "metadata": {
        "id": "V36OTvEY-ryj"
      }
    },
    {
      "cell_type": "code",
      "source": [
        "# required uplift\n",
        "#creating custom function for MSB to just return Top 10 rank values of activation\n",
        "def incr_act_top(input_df,pred_col,cm_key='customer',treated_col='ind_recommended',actual_col='activation'):\n",
        "\n",
        "\t#for correcting variable types\n",
        "    input_df[[treated_col, actual_col, pred_col]] = input_df[[treated_col, actual_col, pred_col]].apply(pd.to_numeric, errors='coerce')\n",
        "\n",
        "    input_df['rank_per_cm1'] = input_df.groupby(cm_key)[pred_col].rank(method='first', ascending=False)\n",
        "\n",
        "    input_df = input_df.loc[input_df.rank_per_cm1 <= 10,:]\n",
        "\n",
        "    agg_df = input_df.groupby(treated_col,as_index=False).agg({actual_col:'mean'})\n",
        "    agg_df.columns = [treated_col,'avg_30d_act']\n",
        "\n",
        "    print(agg_df)\n",
        "    recommended_avg_30d_act = float(agg_df.loc[agg_df[treated_col]==1,'avg_30d_act'])\n",
        "    not_recommended_avg_30d_act = float(agg_df.loc[agg_df[treated_col]==0,'avg_30d_act'])\n",
        "\n",
        "\n",
        "    return (recommended_avg_30d_act-not_recommended_avg_30d_act)\n",
        "\n",
        "def generate_submission_data_train(model, scaler, cols_to_scale, df):\n",
        "    eval_data = pd.DataFrame(columns=['customer', 'merchant', 'predicted_score','ind_recommended','activation'])\n",
        "    for chunk in df:\n",
        "        chunk[cols_to_scale] = scaler.transform(chunk[cols_to_scale])\n",
        "        uplift_predictions = model.predict(chunk[cols_to_scale])\n",
        "        chunk_data = pd.DataFrame({\n",
        "            'customer': chunk['customer'],\n",
        "            'merchant': chunk['merchant'],\n",
        "            'predicted_score': uplift_predictions,\n",
        "            'ind_recommended': chunk['ind_recommended'],\n",
        "            'activation' : chunk['activation']\n",
        "        })\n",
        "        eval_data = pd.concat([eval_data, chunk_data], ignore_index=True, axis=0)\n",
        "\n",
        "    return eval_data"
      ],
      "metadata": {
        "id": "SeDCbhcv6w8C"
      },
      "execution_count": 16,
      "outputs": []
    },
    {
      "cell_type": "markdown",
      "source": [
        "Submission_Round 1"
      ],
      "metadata": {
        "id": "inmOFj7X--NU"
      }
    },
    {
      "cell_type": "code",
      "source": [
        "from catboost import CatBoostClassifier\n",
        "from sklift.models import ClassTransformation\n",
        "\n",
        "estimator = CatBoostClassifier(verbose=100,\n",
        "                               random_state=42,\n",
        "                               thread_count=1)\n",
        "ct_model = ClassTransformation(estimator=estimator)\n",
        "ct_model = ct_model.fit(features[cols_to_scale], labels, treat)\n",
        "df = pd.read_csv('/content/drive/MyDrive/Amex_Super_Bowl/Amex_Campus_Challenge_Train.csv', chunksize = 1000000)\n",
        "train_score= generate_submission_data_train(ct_model, scaler, cols_to_scale, df)\n",
        "final_score = round(incr_act_top(input_df=train_score,pred_col='predicted_score',cm_key='customer',treated_col='ind_recommended',actual_col='activation'), 7)\n",
        "print(final_score)"
      ],
      "metadata": {
        "colab": {
          "base_uri": "https://localhost:8080/"
        },
        "id": "6iHRY8gs7d-1",
        "outputId": "058b6a28-fb32-4a3c-a980-74c018b610df"
      },
      "execution_count": 17,
      "outputs": [
        {
          "output_type": "stream",
          "name": "stdout",
          "text": [
            "Learning rate set to 0.089901\n",
            "0:\tlearn: 0.6888388\ttotal: 127ms\tremaining: 2m 6s\n",
            "100:\tlearn: 0.6409425\ttotal: 8.31s\tremaining: 1m 14s\n",
            "200:\tlearn: 0.6197990\ttotal: 15.7s\tremaining: 1m 2s\n",
            "300:\tlearn: 0.5998858\ttotal: 23.4s\tremaining: 54.3s\n",
            "400:\tlearn: 0.5830935\ttotal: 33.5s\tremaining: 50.1s\n",
            "500:\tlearn: 0.5668711\ttotal: 40.4s\tremaining: 40.3s\n",
            "600:\tlearn: 0.5520430\ttotal: 49.9s\tremaining: 33.1s\n",
            "700:\tlearn: 0.5382556\ttotal: 57.9s\tremaining: 24.7s\n",
            "800:\tlearn: 0.5244469\ttotal: 1m 14s\tremaining: 18.6s\n",
            "900:\tlearn: 0.5118726\ttotal: 1m 22s\tremaining: 9.05s\n",
            "999:\tlearn: 0.5002780\ttotal: 1m 30s\tremaining: 0us\n",
            "   ind_recommended  avg_30d_act\n",
            "0                0     0.006865\n",
            "1                1     0.011961\n",
            "0.0050962\n"
          ]
        }
      ]
    },
    {
      "cell_type": "code",
      "source": [
        "feat_imp = pd.DataFrame({\n",
        "    'feature_name': ct_model.estimator.feature_names_,\n",
        "    'feature_score': ct_model.estimator.feature_importances_\n",
        "}).sort_values('feature_score', ascending=False).reset_index(drop=True)\n",
        "\n",
        "feat_imp.head(20)"
      ],
      "metadata": {
        "id": "f2U-dijcrb_0",
        "colab": {
          "base_uri": "https://localhost:8080/",
          "height": 677
        },
        "outputId": "76b6e61f-c14f-40d7-a627-a13f19fcae8b"
      },
      "execution_count": 18,
      "outputs": [
        {
          "output_type": "execute_result",
          "data": {
            "text/plain": [
              "                    feature_name  feature_score\n",
              "0   customer_digital_activity_02       4.398848\n",
              "1           customer_merchant_03       3.983050\n",
              "2                    distance_05       3.191116\n",
              "3              customer_spend_04       3.189002\n",
              "4              customer_spend_01       2.637322\n",
              "5            merchant_profile_03       2.618413\n",
              "6            customer_profile_04       2.526816\n",
              "7            merchant_profile_02       2.449299\n",
              "8            customer_profile_03       2.375996\n",
              "9            customer_profile_01       2.292389\n",
              "10  customer_digital_activity_01       2.246775\n",
              "11             customer_spend_19       2.237515\n",
              "12             customer_spend_18       2.208872\n",
              "13  customer_digital_activity_19       2.175226\n",
              "14             merchant_spend_02       2.111444\n",
              "15  customer_digital_activity_22       2.005727\n",
              "16             customer_spend_14       1.921567\n",
              "17             customer_spend_05       1.888952\n",
              "18                   distance_04       1.871572\n",
              "19             merchant_spend_01       1.862629"
            ],
            "text/html": [
              "\n",
              "  <div id=\"df-06724571-91a2-4d6e-a4da-3f8265feeb03\" class=\"colab-df-container\">\n",
              "    <div>\n",
              "<style scoped>\n",
              "    .dataframe tbody tr th:only-of-type {\n",
              "        vertical-align: middle;\n",
              "    }\n",
              "\n",
              "    .dataframe tbody tr th {\n",
              "        vertical-align: top;\n",
              "    }\n",
              "\n",
              "    .dataframe thead th {\n",
              "        text-align: right;\n",
              "    }\n",
              "</style>\n",
              "<table border=\"1\" class=\"dataframe\">\n",
              "  <thead>\n",
              "    <tr style=\"text-align: right;\">\n",
              "      <th></th>\n",
              "      <th>feature_name</th>\n",
              "      <th>feature_score</th>\n",
              "    </tr>\n",
              "  </thead>\n",
              "  <tbody>\n",
              "    <tr>\n",
              "      <th>0</th>\n",
              "      <td>customer_digital_activity_02</td>\n",
              "      <td>4.398848</td>\n",
              "    </tr>\n",
              "    <tr>\n",
              "      <th>1</th>\n",
              "      <td>customer_merchant_03</td>\n",
              "      <td>3.983050</td>\n",
              "    </tr>\n",
              "    <tr>\n",
              "      <th>2</th>\n",
              "      <td>distance_05</td>\n",
              "      <td>3.191116</td>\n",
              "    </tr>\n",
              "    <tr>\n",
              "      <th>3</th>\n",
              "      <td>customer_spend_04</td>\n",
              "      <td>3.189002</td>\n",
              "    </tr>\n",
              "    <tr>\n",
              "      <th>4</th>\n",
              "      <td>customer_spend_01</td>\n",
              "      <td>2.637322</td>\n",
              "    </tr>\n",
              "    <tr>\n",
              "      <th>5</th>\n",
              "      <td>merchant_profile_03</td>\n",
              "      <td>2.618413</td>\n",
              "    </tr>\n",
              "    <tr>\n",
              "      <th>6</th>\n",
              "      <td>customer_profile_04</td>\n",
              "      <td>2.526816</td>\n",
              "    </tr>\n",
              "    <tr>\n",
              "      <th>7</th>\n",
              "      <td>merchant_profile_02</td>\n",
              "      <td>2.449299</td>\n",
              "    </tr>\n",
              "    <tr>\n",
              "      <th>8</th>\n",
              "      <td>customer_profile_03</td>\n",
              "      <td>2.375996</td>\n",
              "    </tr>\n",
              "    <tr>\n",
              "      <th>9</th>\n",
              "      <td>customer_profile_01</td>\n",
              "      <td>2.292389</td>\n",
              "    </tr>\n",
              "    <tr>\n",
              "      <th>10</th>\n",
              "      <td>customer_digital_activity_01</td>\n",
              "      <td>2.246775</td>\n",
              "    </tr>\n",
              "    <tr>\n",
              "      <th>11</th>\n",
              "      <td>customer_spend_19</td>\n",
              "      <td>2.237515</td>\n",
              "    </tr>\n",
              "    <tr>\n",
              "      <th>12</th>\n",
              "      <td>customer_spend_18</td>\n",
              "      <td>2.208872</td>\n",
              "    </tr>\n",
              "    <tr>\n",
              "      <th>13</th>\n",
              "      <td>customer_digital_activity_19</td>\n",
              "      <td>2.175226</td>\n",
              "    </tr>\n",
              "    <tr>\n",
              "      <th>14</th>\n",
              "      <td>merchant_spend_02</td>\n",
              "      <td>2.111444</td>\n",
              "    </tr>\n",
              "    <tr>\n",
              "      <th>15</th>\n",
              "      <td>customer_digital_activity_22</td>\n",
              "      <td>2.005727</td>\n",
              "    </tr>\n",
              "    <tr>\n",
              "      <th>16</th>\n",
              "      <td>customer_spend_14</td>\n",
              "      <td>1.921567</td>\n",
              "    </tr>\n",
              "    <tr>\n",
              "      <th>17</th>\n",
              "      <td>customer_spend_05</td>\n",
              "      <td>1.888952</td>\n",
              "    </tr>\n",
              "    <tr>\n",
              "      <th>18</th>\n",
              "      <td>distance_04</td>\n",
              "      <td>1.871572</td>\n",
              "    </tr>\n",
              "    <tr>\n",
              "      <th>19</th>\n",
              "      <td>merchant_spend_01</td>\n",
              "      <td>1.862629</td>\n",
              "    </tr>\n",
              "  </tbody>\n",
              "</table>\n",
              "</div>\n",
              "    <div class=\"colab-df-buttons\">\n",
              "\n",
              "  <div class=\"colab-df-container\">\n",
              "    <button class=\"colab-df-convert\" onclick=\"convertToInteractive('df-06724571-91a2-4d6e-a4da-3f8265feeb03')\"\n",
              "            title=\"Convert this dataframe to an interactive table.\"\n",
              "            style=\"display:none;\">\n",
              "\n",
              "  <svg xmlns=\"http://www.w3.org/2000/svg\" height=\"24px\" viewBox=\"0 -960 960 960\">\n",
              "    <path d=\"M120-120v-720h720v720H120Zm60-500h600v-160H180v160Zm220 220h160v-160H400v160Zm0 220h160v-160H400v160ZM180-400h160v-160H180v160Zm440 0h160v-160H620v160ZM180-180h160v-160H180v160Zm440 0h160v-160H620v160Z\"/>\n",
              "  </svg>\n",
              "    </button>\n",
              "\n",
              "  <style>\n",
              "    .colab-df-container {\n",
              "      display:flex;\n",
              "      gap: 12px;\n",
              "    }\n",
              "\n",
              "    .colab-df-convert {\n",
              "      background-color: #E8F0FE;\n",
              "      border: none;\n",
              "      border-radius: 50%;\n",
              "      cursor: pointer;\n",
              "      display: none;\n",
              "      fill: #1967D2;\n",
              "      height: 32px;\n",
              "      padding: 0 0 0 0;\n",
              "      width: 32px;\n",
              "    }\n",
              "\n",
              "    .colab-df-convert:hover {\n",
              "      background-color: #E2EBFA;\n",
              "      box-shadow: 0px 1px 2px rgba(60, 64, 67, 0.3), 0px 1px 3px 1px rgba(60, 64, 67, 0.15);\n",
              "      fill: #174EA6;\n",
              "    }\n",
              "\n",
              "    .colab-df-buttons div {\n",
              "      margin-bottom: 4px;\n",
              "    }\n",
              "\n",
              "    [theme=dark] .colab-df-convert {\n",
              "      background-color: #3B4455;\n",
              "      fill: #D2E3FC;\n",
              "    }\n",
              "\n",
              "    [theme=dark] .colab-df-convert:hover {\n",
              "      background-color: #434B5C;\n",
              "      box-shadow: 0px 1px 3px 1px rgba(0, 0, 0, 0.15);\n",
              "      filter: drop-shadow(0px 1px 2px rgba(0, 0, 0, 0.3));\n",
              "      fill: #FFFFFF;\n",
              "    }\n",
              "  </style>\n",
              "\n",
              "    <script>\n",
              "      const buttonEl =\n",
              "        document.querySelector('#df-06724571-91a2-4d6e-a4da-3f8265feeb03 button.colab-df-convert');\n",
              "      buttonEl.style.display =\n",
              "        google.colab.kernel.accessAllowed ? 'block' : 'none';\n",
              "\n",
              "      async function convertToInteractive(key) {\n",
              "        const element = document.querySelector('#df-06724571-91a2-4d6e-a4da-3f8265feeb03');\n",
              "        const dataTable =\n",
              "          await google.colab.kernel.invokeFunction('convertToInteractive',\n",
              "                                                    [key], {});\n",
              "        if (!dataTable) return;\n",
              "\n",
              "        const docLinkHtml = 'Like what you see? Visit the ' +\n",
              "          '<a target=\"_blank\" href=https://colab.research.google.com/notebooks/data_table.ipynb>data table notebook</a>'\n",
              "          + ' to learn more about interactive tables.';\n",
              "        element.innerHTML = '';\n",
              "        dataTable['output_type'] = 'display_data';\n",
              "        await google.colab.output.renderOutput(dataTable, element);\n",
              "        const docLink = document.createElement('div');\n",
              "        docLink.innerHTML = docLinkHtml;\n",
              "        element.appendChild(docLink);\n",
              "      }\n",
              "    </script>\n",
              "  </div>\n",
              "\n",
              "\n",
              "<div id=\"df-b6400000-cdb1-4708-8c9f-c37e792b37bf\">\n",
              "  <button class=\"colab-df-quickchart\" onclick=\"quickchart('df-b6400000-cdb1-4708-8c9f-c37e792b37bf')\"\n",
              "            title=\"Suggest charts.\"\n",
              "            style=\"display:none;\">\n",
              "\n",
              "<svg xmlns=\"http://www.w3.org/2000/svg\" height=\"24px\"viewBox=\"0 0 24 24\"\n",
              "     width=\"24px\">\n",
              "    <g>\n",
              "        <path d=\"M19 3H5c-1.1 0-2 .9-2 2v14c0 1.1.9 2 2 2h14c1.1 0 2-.9 2-2V5c0-1.1-.9-2-2-2zM9 17H7v-7h2v7zm4 0h-2V7h2v10zm4 0h-2v-4h2v4z\"/>\n",
              "    </g>\n",
              "</svg>\n",
              "  </button>\n",
              "\n",
              "<style>\n",
              "  .colab-df-quickchart {\n",
              "      --bg-color: #E8F0FE;\n",
              "      --fill-color: #1967D2;\n",
              "      --hover-bg-color: #E2EBFA;\n",
              "      --hover-fill-color: #174EA6;\n",
              "      --disabled-fill-color: #AAA;\n",
              "      --disabled-bg-color: #DDD;\n",
              "  }\n",
              "\n",
              "  [theme=dark] .colab-df-quickchart {\n",
              "      --bg-color: #3B4455;\n",
              "      --fill-color: #D2E3FC;\n",
              "      --hover-bg-color: #434B5C;\n",
              "      --hover-fill-color: #FFFFFF;\n",
              "      --disabled-bg-color: #3B4455;\n",
              "      --disabled-fill-color: #666;\n",
              "  }\n",
              "\n",
              "  .colab-df-quickchart {\n",
              "    background-color: var(--bg-color);\n",
              "    border: none;\n",
              "    border-radius: 50%;\n",
              "    cursor: pointer;\n",
              "    display: none;\n",
              "    fill: var(--fill-color);\n",
              "    height: 32px;\n",
              "    padding: 0;\n",
              "    width: 32px;\n",
              "  }\n",
              "\n",
              "  .colab-df-quickchart:hover {\n",
              "    background-color: var(--hover-bg-color);\n",
              "    box-shadow: 0 1px 2px rgba(60, 64, 67, 0.3), 0 1px 3px 1px rgba(60, 64, 67, 0.15);\n",
              "    fill: var(--button-hover-fill-color);\n",
              "  }\n",
              "\n",
              "  .colab-df-quickchart-complete:disabled,\n",
              "  .colab-df-quickchart-complete:disabled:hover {\n",
              "    background-color: var(--disabled-bg-color);\n",
              "    fill: var(--disabled-fill-color);\n",
              "    box-shadow: none;\n",
              "  }\n",
              "\n",
              "  .colab-df-spinner {\n",
              "    border: 2px solid var(--fill-color);\n",
              "    border-color: transparent;\n",
              "    border-bottom-color: var(--fill-color);\n",
              "    animation:\n",
              "      spin 1s steps(1) infinite;\n",
              "  }\n",
              "\n",
              "  @keyframes spin {\n",
              "    0% {\n",
              "      border-color: transparent;\n",
              "      border-bottom-color: var(--fill-color);\n",
              "      border-left-color: var(--fill-color);\n",
              "    }\n",
              "    20% {\n",
              "      border-color: transparent;\n",
              "      border-left-color: var(--fill-color);\n",
              "      border-top-color: var(--fill-color);\n",
              "    }\n",
              "    30% {\n",
              "      border-color: transparent;\n",
              "      border-left-color: var(--fill-color);\n",
              "      border-top-color: var(--fill-color);\n",
              "      border-right-color: var(--fill-color);\n",
              "    }\n",
              "    40% {\n",
              "      border-color: transparent;\n",
              "      border-right-color: var(--fill-color);\n",
              "      border-top-color: var(--fill-color);\n",
              "    }\n",
              "    60% {\n",
              "      border-color: transparent;\n",
              "      border-right-color: var(--fill-color);\n",
              "    }\n",
              "    80% {\n",
              "      border-color: transparent;\n",
              "      border-right-color: var(--fill-color);\n",
              "      border-bottom-color: var(--fill-color);\n",
              "    }\n",
              "    90% {\n",
              "      border-color: transparent;\n",
              "      border-bottom-color: var(--fill-color);\n",
              "    }\n",
              "  }\n",
              "</style>\n",
              "\n",
              "  <script>\n",
              "    async function quickchart(key) {\n",
              "      const quickchartButtonEl =\n",
              "        document.querySelector('#' + key + ' button');\n",
              "      quickchartButtonEl.disabled = true;  // To prevent multiple clicks.\n",
              "      quickchartButtonEl.classList.add('colab-df-spinner');\n",
              "      try {\n",
              "        const charts = await google.colab.kernel.invokeFunction(\n",
              "            'suggestCharts', [key], {});\n",
              "      } catch (error) {\n",
              "        console.error('Error during call to suggestCharts:', error);\n",
              "      }\n",
              "      quickchartButtonEl.classList.remove('colab-df-spinner');\n",
              "      quickchartButtonEl.classList.add('colab-df-quickchart-complete');\n",
              "    }\n",
              "    (() => {\n",
              "      let quickchartButtonEl =\n",
              "        document.querySelector('#df-b6400000-cdb1-4708-8c9f-c37e792b37bf button');\n",
              "      quickchartButtonEl.style.display =\n",
              "        google.colab.kernel.accessAllowed ? 'block' : 'none';\n",
              "    })();\n",
              "  </script>\n",
              "</div>\n",
              "    </div>\n",
              "  </div>\n"
            ]
          },
          "metadata": {},
          "execution_count": 18
        }
      ]
    },
    {
      "cell_type": "markdown",
      "source": [
        "Submission on Round 2 evaluation set"
      ],
      "metadata": {
        "id": "b7uX1vAzFqdS"
      }
    },
    {
      "cell_type": "code",
      "source": [
        "def generate_submission_data_R2(model, scaler, cols_to_scale, df_eval):\n",
        "    submission_data = pd.DataFrame(columns=['customer', 'merchant', 'predicted_score'])\n",
        "\n",
        "    for chunk in df_eval:\n",
        "        chunk[cols_to_impute] = imputer.transform(chunk[cols_to_impute])\n",
        "        chunk[cols_to_scale] = scaler.transform(chunk[cols_to_scale])\n",
        "        uplift_predictions = model.predict(chunk[cols_to_scale])\n",
        "        chunk_predictions = pd.DataFrame({\n",
        "            'customer': chunk['customer'],\n",
        "            'merchant': chunk['merchant'],\n",
        "            'predicted_score': uplift_predictions\n",
        "        })\n",
        "\n",
        "        submission_data = pd.concat([submission_data, chunk_predictions], ignore_index=True, axis=0)\n",
        "\n",
        "    return submission_data"
      ],
      "metadata": {
        "id": "vcheZoiiAPZV"
      },
      "execution_count": 18,
      "outputs": []
    },
    {
      "cell_type": "code",
      "source": [
        "df_eval_2 = pd.read_csv('/content/drive/MyDrive/Amex_Super_Bowl/Amex_Campus_Challenge_Eval_Round2 (1).csv')"
      ],
      "metadata": {
        "id": "wWA_hqz9mc9q"
      },
      "execution_count": null,
      "outputs": []
    },
    {
      "cell_type": "code",
      "source": [
        "import pandas as pd\n",
        "\n",
        "# Assuming 'df' is your DataFrame\n",
        "# Replace 'df' with your actual DataFrame name\n",
        "# Calculate the total number of rows in the DataFrame\n",
        "total_rows = len(df_eval_2)\n",
        "\n",
        "# Calculate the percentage of null values in each column\n",
        "null_percentage = (df_eval_2.isnull().sum() / total_rows) * 100\n",
        "\n",
        "# Display the results\n",
        "null_percentage\n"
      ],
      "metadata": {
        "colab": {
          "base_uri": "https://localhost:8080/"
        },
        "id": "cSphzEefDoc9",
        "outputId": "13b167be-193b-43c2-f068-59eb0bb95b2c"
      },
      "execution_count": null,
      "outputs": [
        {
          "output_type": "execute_result",
          "data": {
            "text/plain": [
              "customer_digital_activity_04    95.536416\n",
              "customer_spend_01               12.041379\n",
              "customer_industry_spend_01      56.162043\n",
              "customer_industry_spend_02      56.162043\n",
              "customer_industry_spend_03      56.162043\n",
              "                                  ...    \n",
              "customer_digital_activity_02     0.985387\n",
              "customer_profile_04              0.654579\n",
              "distance_05                      0.000000\n",
              "customer                         0.000000\n",
              "merchant                         0.000000\n",
              "Length: 69, dtype: float64"
            ]
          },
          "metadata": {},
          "execution_count": 21
        }
      ]
    },
    {
      "cell_type": "code",
      "source": [
        "df_eval_2.head()"
      ],
      "metadata": {
        "colab": {
          "base_uri": "https://localhost:8080/",
          "height": 256
        },
        "id": "GcxPa_6_wQQm",
        "outputId": "b91b2523-d5ea-41f1-e2c7-cc24bd2daff4"
      },
      "execution_count": null,
      "outputs": [
        {
          "output_type": "execute_result",
          "data": {
            "text/plain": [
              "   customer_digital_activity_04  customer_spend_01  \\\n",
              "0                           NaN                NaN   \n",
              "1                           NaN                NaN   \n",
              "2                           NaN                NaN   \n",
              "3                           NaN                NaN   \n",
              "4                           NaN                NaN   \n",
              "\n",
              "   customer_industry_spend_01  customer_industry_spend_02  \\\n",
              "0                         NaN                         NaN   \n",
              "1                         NaN                         NaN   \n",
              "2                         NaN                         NaN   \n",
              "3                         NaN                         NaN   \n",
              "4                         NaN                         NaN   \n",
              "\n",
              "   customer_industry_spend_03  customer_industry_spend_04  \\\n",
              "0                         NaN                         NaN   \n",
              "1                         NaN                         NaN   \n",
              "2                         NaN                         NaN   \n",
              "3                         NaN                         NaN   \n",
              "4                         NaN                         NaN   \n",
              "\n",
              "   customer_industry_spend_05  customer_spend_02  customer_spend_03  \\\n",
              "0                         NaN                NaN                NaN   \n",
              "1                         NaN                NaN                NaN   \n",
              "2                         NaN                NaN                NaN   \n",
              "3                         NaN                NaN                NaN   \n",
              "4                         NaN                NaN                NaN   \n",
              "\n",
              "   customer_merchant_02  ...  merchant_spend_09  merchant_profile_03  \\\n",
              "0                   NaN  ...              218.0                243.0   \n",
              "1                   NaN  ...                NaN                  NaN   \n",
              "2                   NaN  ...             8369.0               8960.0   \n",
              "3                   NaN  ...            13503.0               8277.0   \n",
              "4                   NaN  ...              917.0                919.0   \n",
              "\n",
              "   customer_digital_activity_01  merchant_spend_10  customer_profile_03  \\\n",
              "0                           NaN            509.755                  NaN   \n",
              "1                           NaN                NaN                  NaN   \n",
              "2                           NaN           1096.775                  NaN   \n",
              "3                           NaN            669.960                  NaN   \n",
              "4                           NaN            114.495                  NaN   \n",
              "\n",
              "   customer_digital_activity_02  customer_profile_04  distance_05  customer  \\\n",
              "0                           NaN                  NaN     0.164692    574819   \n",
              "1                           NaN                  NaN     0.539078    574819   \n",
              "2                           NaN                  NaN     0.524643    574819   \n",
              "3                           NaN                  NaN     0.460987    574819   \n",
              "4                           NaN                  NaN     0.759766    574819   \n",
              "\n",
              "   merchant  \n",
              "0   1087034  \n",
              "1   1328040  \n",
              "2   1502936  \n",
              "3   1529762  \n",
              "4   1685993  \n",
              "\n",
              "[5 rows x 69 columns]"
            ],
            "text/html": [
              "\n",
              "  <div id=\"df-84f669a6-3b39-4b80-ac50-5f79da7ea38f\" class=\"colab-df-container\">\n",
              "    <div>\n",
              "<style scoped>\n",
              "    .dataframe tbody tr th:only-of-type {\n",
              "        vertical-align: middle;\n",
              "    }\n",
              "\n",
              "    .dataframe tbody tr th {\n",
              "        vertical-align: top;\n",
              "    }\n",
              "\n",
              "    .dataframe thead th {\n",
              "        text-align: right;\n",
              "    }\n",
              "</style>\n",
              "<table border=\"1\" class=\"dataframe\">\n",
              "  <thead>\n",
              "    <tr style=\"text-align: right;\">\n",
              "      <th></th>\n",
              "      <th>customer_digital_activity_04</th>\n",
              "      <th>customer_spend_01</th>\n",
              "      <th>customer_industry_spend_01</th>\n",
              "      <th>customer_industry_spend_02</th>\n",
              "      <th>customer_industry_spend_03</th>\n",
              "      <th>customer_industry_spend_04</th>\n",
              "      <th>customer_industry_spend_05</th>\n",
              "      <th>customer_spend_02</th>\n",
              "      <th>customer_spend_03</th>\n",
              "      <th>customer_merchant_02</th>\n",
              "      <th>...</th>\n",
              "      <th>merchant_spend_09</th>\n",
              "      <th>merchant_profile_03</th>\n",
              "      <th>customer_digital_activity_01</th>\n",
              "      <th>merchant_spend_10</th>\n",
              "      <th>customer_profile_03</th>\n",
              "      <th>customer_digital_activity_02</th>\n",
              "      <th>customer_profile_04</th>\n",
              "      <th>distance_05</th>\n",
              "      <th>customer</th>\n",
              "      <th>merchant</th>\n",
              "    </tr>\n",
              "  </thead>\n",
              "  <tbody>\n",
              "    <tr>\n",
              "      <th>0</th>\n",
              "      <td>NaN</td>\n",
              "      <td>NaN</td>\n",
              "      <td>NaN</td>\n",
              "      <td>NaN</td>\n",
              "      <td>NaN</td>\n",
              "      <td>NaN</td>\n",
              "      <td>NaN</td>\n",
              "      <td>NaN</td>\n",
              "      <td>NaN</td>\n",
              "      <td>NaN</td>\n",
              "      <td>...</td>\n",
              "      <td>218.0</td>\n",
              "      <td>243.0</td>\n",
              "      <td>NaN</td>\n",
              "      <td>509.755</td>\n",
              "      <td>NaN</td>\n",
              "      <td>NaN</td>\n",
              "      <td>NaN</td>\n",
              "      <td>0.164692</td>\n",
              "      <td>574819</td>\n",
              "      <td>1087034</td>\n",
              "    </tr>\n",
              "    <tr>\n",
              "      <th>1</th>\n",
              "      <td>NaN</td>\n",
              "      <td>NaN</td>\n",
              "      <td>NaN</td>\n",
              "      <td>NaN</td>\n",
              "      <td>NaN</td>\n",
              "      <td>NaN</td>\n",
              "      <td>NaN</td>\n",
              "      <td>NaN</td>\n",
              "      <td>NaN</td>\n",
              "      <td>NaN</td>\n",
              "      <td>...</td>\n",
              "      <td>NaN</td>\n",
              "      <td>NaN</td>\n",
              "      <td>NaN</td>\n",
              "      <td>NaN</td>\n",
              "      <td>NaN</td>\n",
              "      <td>NaN</td>\n",
              "      <td>NaN</td>\n",
              "      <td>0.539078</td>\n",
              "      <td>574819</td>\n",
              "      <td>1328040</td>\n",
              "    </tr>\n",
              "    <tr>\n",
              "      <th>2</th>\n",
              "      <td>NaN</td>\n",
              "      <td>NaN</td>\n",
              "      <td>NaN</td>\n",
              "      <td>NaN</td>\n",
              "      <td>NaN</td>\n",
              "      <td>NaN</td>\n",
              "      <td>NaN</td>\n",
              "      <td>NaN</td>\n",
              "      <td>NaN</td>\n",
              "      <td>NaN</td>\n",
              "      <td>...</td>\n",
              "      <td>8369.0</td>\n",
              "      <td>8960.0</td>\n",
              "      <td>NaN</td>\n",
              "      <td>1096.775</td>\n",
              "      <td>NaN</td>\n",
              "      <td>NaN</td>\n",
              "      <td>NaN</td>\n",
              "      <td>0.524643</td>\n",
              "      <td>574819</td>\n",
              "      <td>1502936</td>\n",
              "    </tr>\n",
              "    <tr>\n",
              "      <th>3</th>\n",
              "      <td>NaN</td>\n",
              "      <td>NaN</td>\n",
              "      <td>NaN</td>\n",
              "      <td>NaN</td>\n",
              "      <td>NaN</td>\n",
              "      <td>NaN</td>\n",
              "      <td>NaN</td>\n",
              "      <td>NaN</td>\n",
              "      <td>NaN</td>\n",
              "      <td>NaN</td>\n",
              "      <td>...</td>\n",
              "      <td>13503.0</td>\n",
              "      <td>8277.0</td>\n",
              "      <td>NaN</td>\n",
              "      <td>669.960</td>\n",
              "      <td>NaN</td>\n",
              "      <td>NaN</td>\n",
              "      <td>NaN</td>\n",
              "      <td>0.460987</td>\n",
              "      <td>574819</td>\n",
              "      <td>1529762</td>\n",
              "    </tr>\n",
              "    <tr>\n",
              "      <th>4</th>\n",
              "      <td>NaN</td>\n",
              "      <td>NaN</td>\n",
              "      <td>NaN</td>\n",
              "      <td>NaN</td>\n",
              "      <td>NaN</td>\n",
              "      <td>NaN</td>\n",
              "      <td>NaN</td>\n",
              "      <td>NaN</td>\n",
              "      <td>NaN</td>\n",
              "      <td>NaN</td>\n",
              "      <td>...</td>\n",
              "      <td>917.0</td>\n",
              "      <td>919.0</td>\n",
              "      <td>NaN</td>\n",
              "      <td>114.495</td>\n",
              "      <td>NaN</td>\n",
              "      <td>NaN</td>\n",
              "      <td>NaN</td>\n",
              "      <td>0.759766</td>\n",
              "      <td>574819</td>\n",
              "      <td>1685993</td>\n",
              "    </tr>\n",
              "  </tbody>\n",
              "</table>\n",
              "<p>5 rows × 69 columns</p>\n",
              "</div>\n",
              "    <div class=\"colab-df-buttons\">\n",
              "\n",
              "  <div class=\"colab-df-container\">\n",
              "    <button class=\"colab-df-convert\" onclick=\"convertToInteractive('df-84f669a6-3b39-4b80-ac50-5f79da7ea38f')\"\n",
              "            title=\"Convert this dataframe to an interactive table.\"\n",
              "            style=\"display:none;\">\n",
              "\n",
              "  <svg xmlns=\"http://www.w3.org/2000/svg\" height=\"24px\" viewBox=\"0 -960 960 960\">\n",
              "    <path d=\"M120-120v-720h720v720H120Zm60-500h600v-160H180v160Zm220 220h160v-160H400v160Zm0 220h160v-160H400v160ZM180-400h160v-160H180v160Zm440 0h160v-160H620v160ZM180-180h160v-160H180v160Zm440 0h160v-160H620v160Z\"/>\n",
              "  </svg>\n",
              "    </button>\n",
              "\n",
              "  <style>\n",
              "    .colab-df-container {\n",
              "      display:flex;\n",
              "      gap: 12px;\n",
              "    }\n",
              "\n",
              "    .colab-df-convert {\n",
              "      background-color: #E8F0FE;\n",
              "      border: none;\n",
              "      border-radius: 50%;\n",
              "      cursor: pointer;\n",
              "      display: none;\n",
              "      fill: #1967D2;\n",
              "      height: 32px;\n",
              "      padding: 0 0 0 0;\n",
              "      width: 32px;\n",
              "    }\n",
              "\n",
              "    .colab-df-convert:hover {\n",
              "      background-color: #E2EBFA;\n",
              "      box-shadow: 0px 1px 2px rgba(60, 64, 67, 0.3), 0px 1px 3px 1px rgba(60, 64, 67, 0.15);\n",
              "      fill: #174EA6;\n",
              "    }\n",
              "\n",
              "    .colab-df-buttons div {\n",
              "      margin-bottom: 4px;\n",
              "    }\n",
              "\n",
              "    [theme=dark] .colab-df-convert {\n",
              "      background-color: #3B4455;\n",
              "      fill: #D2E3FC;\n",
              "    }\n",
              "\n",
              "    [theme=dark] .colab-df-convert:hover {\n",
              "      background-color: #434B5C;\n",
              "      box-shadow: 0px 1px 3px 1px rgba(0, 0, 0, 0.15);\n",
              "      filter: drop-shadow(0px 1px 2px rgba(0, 0, 0, 0.3));\n",
              "      fill: #FFFFFF;\n",
              "    }\n",
              "  </style>\n",
              "\n",
              "    <script>\n",
              "      const buttonEl =\n",
              "        document.querySelector('#df-84f669a6-3b39-4b80-ac50-5f79da7ea38f button.colab-df-convert');\n",
              "      buttonEl.style.display =\n",
              "        google.colab.kernel.accessAllowed ? 'block' : 'none';\n",
              "\n",
              "      async function convertToInteractive(key) {\n",
              "        const element = document.querySelector('#df-84f669a6-3b39-4b80-ac50-5f79da7ea38f');\n",
              "        const dataTable =\n",
              "          await google.colab.kernel.invokeFunction('convertToInteractive',\n",
              "                                                    [key], {});\n",
              "        if (!dataTable) return;\n",
              "\n",
              "        const docLinkHtml = 'Like what you see? Visit the ' +\n",
              "          '<a target=\"_blank\" href=https://colab.research.google.com/notebooks/data_table.ipynb>data table notebook</a>'\n",
              "          + ' to learn more about interactive tables.';\n",
              "        element.innerHTML = '';\n",
              "        dataTable['output_type'] = 'display_data';\n",
              "        await google.colab.output.renderOutput(dataTable, element);\n",
              "        const docLink = document.createElement('div');\n",
              "        docLink.innerHTML = docLinkHtml;\n",
              "        element.appendChild(docLink);\n",
              "      }\n",
              "    </script>\n",
              "  </div>\n",
              "\n",
              "\n",
              "<div id=\"df-af24702a-d567-497e-8c8e-bd9a251c1b6c\">\n",
              "  <button class=\"colab-df-quickchart\" onclick=\"quickchart('df-af24702a-d567-497e-8c8e-bd9a251c1b6c')\"\n",
              "            title=\"Suggest charts.\"\n",
              "            style=\"display:none;\">\n",
              "\n",
              "<svg xmlns=\"http://www.w3.org/2000/svg\" height=\"24px\"viewBox=\"0 0 24 24\"\n",
              "     width=\"24px\">\n",
              "    <g>\n",
              "        <path d=\"M19 3H5c-1.1 0-2 .9-2 2v14c0 1.1.9 2 2 2h14c1.1 0 2-.9 2-2V5c0-1.1-.9-2-2-2zM9 17H7v-7h2v7zm4 0h-2V7h2v10zm4 0h-2v-4h2v4z\"/>\n",
              "    </g>\n",
              "</svg>\n",
              "  </button>\n",
              "\n",
              "<style>\n",
              "  .colab-df-quickchart {\n",
              "      --bg-color: #E8F0FE;\n",
              "      --fill-color: #1967D2;\n",
              "      --hover-bg-color: #E2EBFA;\n",
              "      --hover-fill-color: #174EA6;\n",
              "      --disabled-fill-color: #AAA;\n",
              "      --disabled-bg-color: #DDD;\n",
              "  }\n",
              "\n",
              "  [theme=dark] .colab-df-quickchart {\n",
              "      --bg-color: #3B4455;\n",
              "      --fill-color: #D2E3FC;\n",
              "      --hover-bg-color: #434B5C;\n",
              "      --hover-fill-color: #FFFFFF;\n",
              "      --disabled-bg-color: #3B4455;\n",
              "      --disabled-fill-color: #666;\n",
              "  }\n",
              "\n",
              "  .colab-df-quickchart {\n",
              "    background-color: var(--bg-color);\n",
              "    border: none;\n",
              "    border-radius: 50%;\n",
              "    cursor: pointer;\n",
              "    display: none;\n",
              "    fill: var(--fill-color);\n",
              "    height: 32px;\n",
              "    padding: 0;\n",
              "    width: 32px;\n",
              "  }\n",
              "\n",
              "  .colab-df-quickchart:hover {\n",
              "    background-color: var(--hover-bg-color);\n",
              "    box-shadow: 0 1px 2px rgba(60, 64, 67, 0.3), 0 1px 3px 1px rgba(60, 64, 67, 0.15);\n",
              "    fill: var(--button-hover-fill-color);\n",
              "  }\n",
              "\n",
              "  .colab-df-quickchart-complete:disabled,\n",
              "  .colab-df-quickchart-complete:disabled:hover {\n",
              "    background-color: var(--disabled-bg-color);\n",
              "    fill: var(--disabled-fill-color);\n",
              "    box-shadow: none;\n",
              "  }\n",
              "\n",
              "  .colab-df-spinner {\n",
              "    border: 2px solid var(--fill-color);\n",
              "    border-color: transparent;\n",
              "    border-bottom-color: var(--fill-color);\n",
              "    animation:\n",
              "      spin 1s steps(1) infinite;\n",
              "  }\n",
              "\n",
              "  @keyframes spin {\n",
              "    0% {\n",
              "      border-color: transparent;\n",
              "      border-bottom-color: var(--fill-color);\n",
              "      border-left-color: var(--fill-color);\n",
              "    }\n",
              "    20% {\n",
              "      border-color: transparent;\n",
              "      border-left-color: var(--fill-color);\n",
              "      border-top-color: var(--fill-color);\n",
              "    }\n",
              "    30% {\n",
              "      border-color: transparent;\n",
              "      border-left-color: var(--fill-color);\n",
              "      border-top-color: var(--fill-color);\n",
              "      border-right-color: var(--fill-color);\n",
              "    }\n",
              "    40% {\n",
              "      border-color: transparent;\n",
              "      border-right-color: var(--fill-color);\n",
              "      border-top-color: var(--fill-color);\n",
              "    }\n",
              "    60% {\n",
              "      border-color: transparent;\n",
              "      border-right-color: var(--fill-color);\n",
              "    }\n",
              "    80% {\n",
              "      border-color: transparent;\n",
              "      border-right-color: var(--fill-color);\n",
              "      border-bottom-color: var(--fill-color);\n",
              "    }\n",
              "    90% {\n",
              "      border-color: transparent;\n",
              "      border-bottom-color: var(--fill-color);\n",
              "    }\n",
              "  }\n",
              "</style>\n",
              "\n",
              "  <script>\n",
              "    async function quickchart(key) {\n",
              "      const quickchartButtonEl =\n",
              "        document.querySelector('#' + key + ' button');\n",
              "      quickchartButtonEl.disabled = true;  // To prevent multiple clicks.\n",
              "      quickchartButtonEl.classList.add('colab-df-spinner');\n",
              "      try {\n",
              "        const charts = await google.colab.kernel.invokeFunction(\n",
              "            'suggestCharts', [key], {});\n",
              "      } catch (error) {\n",
              "        console.error('Error during call to suggestCharts:', error);\n",
              "      }\n",
              "      quickchartButtonEl.classList.remove('colab-df-spinner');\n",
              "      quickchartButtonEl.classList.add('colab-df-quickchart-complete');\n",
              "    }\n",
              "    (() => {\n",
              "      let quickchartButtonEl =\n",
              "        document.querySelector('#df-af24702a-d567-497e-8c8e-bd9a251c1b6c button');\n",
              "      quickchartButtonEl.style.display =\n",
              "        google.colab.kernel.accessAllowed ? 'block' : 'none';\n",
              "    })();\n",
              "  </script>\n",
              "</div>\n",
              "    </div>\n",
              "  </div>\n"
            ]
          },
          "metadata": {},
          "execution_count": 16
        }
      ]
    },
    {
      "cell_type": "code",
      "source": [
        "df_eval_2.shape"
      ],
      "metadata": {
        "colab": {
          "base_uri": "https://localhost:8080/"
        },
        "id": "3rm3YLRCxsLX",
        "outputId": "ff2b957b-685e-4f90-ff81-0cf33cb4bc9c"
      },
      "execution_count": null,
      "outputs": [
        {
          "output_type": "execute_result",
          "data": {
            "text/plain": [
              "(4108134, 69)"
            ]
          },
          "metadata": {},
          "execution_count": 20
        }
      ]
    },
    {
      "cell_type": "code",
      "source": [
        "df_eval_2 = pd.read_csv('/content/drive/MyDrive/Amex_Super_Bowl/Amex_Campus_Challenge_Eval_Round2 (1).csv', chunksize = 1000000)\n",
        "submission_data= generate_submission_data_R2(ct_model, scaler, cols_to_scale, df_eval_2)"
      ],
      "metadata": {
        "id": "xqp67C8yOWFX"
      },
      "execution_count": null,
      "outputs": []
    },
    {
      "cell_type": "code",
      "source": [
        "submission_data.shape"
      ],
      "metadata": {
        "colab": {
          "base_uri": "https://localhost:8080/"
        },
        "id": "JPr_P_1HGLR6",
        "outputId": "7d762f5d-9254-4576-90e7-dedcc90a4d6b"
      },
      "execution_count": null,
      "outputs": [
        {
          "output_type": "execute_result",
          "data": {
            "text/plain": [
              "(4108134, 3)"
            ]
          },
          "metadata": {},
          "execution_count": 27
        }
      ]
    },
    {
      "cell_type": "code",
      "source": [
        "submission_data.head()"
      ],
      "metadata": {
        "colab": {
          "base_uri": "https://localhost:8080/",
          "height": 206
        },
        "id": "yK1VCSgRGOuA",
        "outputId": "23a9a11d-589c-44b7-a6c4-83aa2fbb1457"
      },
      "execution_count": null,
      "outputs": [
        {
          "output_type": "execute_result",
          "data": {
            "text/plain": [
              "   customer   merchant  predicted_score\n",
              "0  574819.0  1087034.0        -0.230397\n",
              "1  574819.0  1328040.0        -0.094990\n",
              "2  574819.0  1502936.0        -0.201506\n",
              "3  574819.0  1529762.0        -0.119029\n",
              "4  574819.0  1685993.0        -0.211230"
            ],
            "text/html": [
              "\n",
              "  <div id=\"df-1c5b533c-5e82-4ed7-9ae4-29438856c524\" class=\"colab-df-container\">\n",
              "    <div>\n",
              "<style scoped>\n",
              "    .dataframe tbody tr th:only-of-type {\n",
              "        vertical-align: middle;\n",
              "    }\n",
              "\n",
              "    .dataframe tbody tr th {\n",
              "        vertical-align: top;\n",
              "    }\n",
              "\n",
              "    .dataframe thead th {\n",
              "        text-align: right;\n",
              "    }\n",
              "</style>\n",
              "<table border=\"1\" class=\"dataframe\">\n",
              "  <thead>\n",
              "    <tr style=\"text-align: right;\">\n",
              "      <th></th>\n",
              "      <th>customer</th>\n",
              "      <th>merchant</th>\n",
              "      <th>predicted_score</th>\n",
              "    </tr>\n",
              "  </thead>\n",
              "  <tbody>\n",
              "    <tr>\n",
              "      <th>0</th>\n",
              "      <td>574819.0</td>\n",
              "      <td>1087034.0</td>\n",
              "      <td>-0.230397</td>\n",
              "    </tr>\n",
              "    <tr>\n",
              "      <th>1</th>\n",
              "      <td>574819.0</td>\n",
              "      <td>1328040.0</td>\n",
              "      <td>-0.094990</td>\n",
              "    </tr>\n",
              "    <tr>\n",
              "      <th>2</th>\n",
              "      <td>574819.0</td>\n",
              "      <td>1502936.0</td>\n",
              "      <td>-0.201506</td>\n",
              "    </tr>\n",
              "    <tr>\n",
              "      <th>3</th>\n",
              "      <td>574819.0</td>\n",
              "      <td>1529762.0</td>\n",
              "      <td>-0.119029</td>\n",
              "    </tr>\n",
              "    <tr>\n",
              "      <th>4</th>\n",
              "      <td>574819.0</td>\n",
              "      <td>1685993.0</td>\n",
              "      <td>-0.211230</td>\n",
              "    </tr>\n",
              "  </tbody>\n",
              "</table>\n",
              "</div>\n",
              "    <div class=\"colab-df-buttons\">\n",
              "\n",
              "  <div class=\"colab-df-container\">\n",
              "    <button class=\"colab-df-convert\" onclick=\"convertToInteractive('df-1c5b533c-5e82-4ed7-9ae4-29438856c524')\"\n",
              "            title=\"Convert this dataframe to an interactive table.\"\n",
              "            style=\"display:none;\">\n",
              "\n",
              "  <svg xmlns=\"http://www.w3.org/2000/svg\" height=\"24px\" viewBox=\"0 -960 960 960\">\n",
              "    <path d=\"M120-120v-720h720v720H120Zm60-500h600v-160H180v160Zm220 220h160v-160H400v160Zm0 220h160v-160H400v160ZM180-400h160v-160H180v160Zm440 0h160v-160H620v160ZM180-180h160v-160H180v160Zm440 0h160v-160H620v160Z\"/>\n",
              "  </svg>\n",
              "    </button>\n",
              "\n",
              "  <style>\n",
              "    .colab-df-container {\n",
              "      display:flex;\n",
              "      gap: 12px;\n",
              "    }\n",
              "\n",
              "    .colab-df-convert {\n",
              "      background-color: #E8F0FE;\n",
              "      border: none;\n",
              "      border-radius: 50%;\n",
              "      cursor: pointer;\n",
              "      display: none;\n",
              "      fill: #1967D2;\n",
              "      height: 32px;\n",
              "      padding: 0 0 0 0;\n",
              "      width: 32px;\n",
              "    }\n",
              "\n",
              "    .colab-df-convert:hover {\n",
              "      background-color: #E2EBFA;\n",
              "      box-shadow: 0px 1px 2px rgba(60, 64, 67, 0.3), 0px 1px 3px 1px rgba(60, 64, 67, 0.15);\n",
              "      fill: #174EA6;\n",
              "    }\n",
              "\n",
              "    .colab-df-buttons div {\n",
              "      margin-bottom: 4px;\n",
              "    }\n",
              "\n",
              "    [theme=dark] .colab-df-convert {\n",
              "      background-color: #3B4455;\n",
              "      fill: #D2E3FC;\n",
              "    }\n",
              "\n",
              "    [theme=dark] .colab-df-convert:hover {\n",
              "      background-color: #434B5C;\n",
              "      box-shadow: 0px 1px 3px 1px rgba(0, 0, 0, 0.15);\n",
              "      filter: drop-shadow(0px 1px 2px rgba(0, 0, 0, 0.3));\n",
              "      fill: #FFFFFF;\n",
              "    }\n",
              "  </style>\n",
              "\n",
              "    <script>\n",
              "      const buttonEl =\n",
              "        document.querySelector('#df-1c5b533c-5e82-4ed7-9ae4-29438856c524 button.colab-df-convert');\n",
              "      buttonEl.style.display =\n",
              "        google.colab.kernel.accessAllowed ? 'block' : 'none';\n",
              "\n",
              "      async function convertToInteractive(key) {\n",
              "        const element = document.querySelector('#df-1c5b533c-5e82-4ed7-9ae4-29438856c524');\n",
              "        const dataTable =\n",
              "          await google.colab.kernel.invokeFunction('convertToInteractive',\n",
              "                                                    [key], {});\n",
              "        if (!dataTable) return;\n",
              "\n",
              "        const docLinkHtml = 'Like what you see? Visit the ' +\n",
              "          '<a target=\"_blank\" href=https://colab.research.google.com/notebooks/data_table.ipynb>data table notebook</a>'\n",
              "          + ' to learn more about interactive tables.';\n",
              "        element.innerHTML = '';\n",
              "        dataTable['output_type'] = 'display_data';\n",
              "        await google.colab.output.renderOutput(dataTable, element);\n",
              "        const docLink = document.createElement('div');\n",
              "        docLink.innerHTML = docLinkHtml;\n",
              "        element.appendChild(docLink);\n",
              "      }\n",
              "    </script>\n",
              "  </div>\n",
              "\n",
              "\n",
              "<div id=\"df-073d621e-23a6-46ea-91c3-f37ef8d92937\">\n",
              "  <button class=\"colab-df-quickchart\" onclick=\"quickchart('df-073d621e-23a6-46ea-91c3-f37ef8d92937')\"\n",
              "            title=\"Suggest charts.\"\n",
              "            style=\"display:none;\">\n",
              "\n",
              "<svg xmlns=\"http://www.w3.org/2000/svg\" height=\"24px\"viewBox=\"0 0 24 24\"\n",
              "     width=\"24px\">\n",
              "    <g>\n",
              "        <path d=\"M19 3H5c-1.1 0-2 .9-2 2v14c0 1.1.9 2 2 2h14c1.1 0 2-.9 2-2V5c0-1.1-.9-2-2-2zM9 17H7v-7h2v7zm4 0h-2V7h2v10zm4 0h-2v-4h2v4z\"/>\n",
              "    </g>\n",
              "</svg>\n",
              "  </button>\n",
              "\n",
              "<style>\n",
              "  .colab-df-quickchart {\n",
              "      --bg-color: #E8F0FE;\n",
              "      --fill-color: #1967D2;\n",
              "      --hover-bg-color: #E2EBFA;\n",
              "      --hover-fill-color: #174EA6;\n",
              "      --disabled-fill-color: #AAA;\n",
              "      --disabled-bg-color: #DDD;\n",
              "  }\n",
              "\n",
              "  [theme=dark] .colab-df-quickchart {\n",
              "      --bg-color: #3B4455;\n",
              "      --fill-color: #D2E3FC;\n",
              "      --hover-bg-color: #434B5C;\n",
              "      --hover-fill-color: #FFFFFF;\n",
              "      --disabled-bg-color: #3B4455;\n",
              "      --disabled-fill-color: #666;\n",
              "  }\n",
              "\n",
              "  .colab-df-quickchart {\n",
              "    background-color: var(--bg-color);\n",
              "    border: none;\n",
              "    border-radius: 50%;\n",
              "    cursor: pointer;\n",
              "    display: none;\n",
              "    fill: var(--fill-color);\n",
              "    height: 32px;\n",
              "    padding: 0;\n",
              "    width: 32px;\n",
              "  }\n",
              "\n",
              "  .colab-df-quickchart:hover {\n",
              "    background-color: var(--hover-bg-color);\n",
              "    box-shadow: 0 1px 2px rgba(60, 64, 67, 0.3), 0 1px 3px 1px rgba(60, 64, 67, 0.15);\n",
              "    fill: var(--button-hover-fill-color);\n",
              "  }\n",
              "\n",
              "  .colab-df-quickchart-complete:disabled,\n",
              "  .colab-df-quickchart-complete:disabled:hover {\n",
              "    background-color: var(--disabled-bg-color);\n",
              "    fill: var(--disabled-fill-color);\n",
              "    box-shadow: none;\n",
              "  }\n",
              "\n",
              "  .colab-df-spinner {\n",
              "    border: 2px solid var(--fill-color);\n",
              "    border-color: transparent;\n",
              "    border-bottom-color: var(--fill-color);\n",
              "    animation:\n",
              "      spin 1s steps(1) infinite;\n",
              "  }\n",
              "\n",
              "  @keyframes spin {\n",
              "    0% {\n",
              "      border-color: transparent;\n",
              "      border-bottom-color: var(--fill-color);\n",
              "      border-left-color: var(--fill-color);\n",
              "    }\n",
              "    20% {\n",
              "      border-color: transparent;\n",
              "      border-left-color: var(--fill-color);\n",
              "      border-top-color: var(--fill-color);\n",
              "    }\n",
              "    30% {\n",
              "      border-color: transparent;\n",
              "      border-left-color: var(--fill-color);\n",
              "      border-top-color: var(--fill-color);\n",
              "      border-right-color: var(--fill-color);\n",
              "    }\n",
              "    40% {\n",
              "      border-color: transparent;\n",
              "      border-right-color: var(--fill-color);\n",
              "      border-top-color: var(--fill-color);\n",
              "    }\n",
              "    60% {\n",
              "      border-color: transparent;\n",
              "      border-right-color: var(--fill-color);\n",
              "    }\n",
              "    80% {\n",
              "      border-color: transparent;\n",
              "      border-right-color: var(--fill-color);\n",
              "      border-bottom-color: var(--fill-color);\n",
              "    }\n",
              "    90% {\n",
              "      border-color: transparent;\n",
              "      border-bottom-color: var(--fill-color);\n",
              "    }\n",
              "  }\n",
              "</style>\n",
              "\n",
              "  <script>\n",
              "    async function quickchart(key) {\n",
              "      const quickchartButtonEl =\n",
              "        document.querySelector('#' + key + ' button');\n",
              "      quickchartButtonEl.disabled = true;  // To prevent multiple clicks.\n",
              "      quickchartButtonEl.classList.add('colab-df-spinner');\n",
              "      try {\n",
              "        const charts = await google.colab.kernel.invokeFunction(\n",
              "            'suggestCharts', [key], {});\n",
              "      } catch (error) {\n",
              "        console.error('Error during call to suggestCharts:', error);\n",
              "      }\n",
              "      quickchartButtonEl.classList.remove('colab-df-spinner');\n",
              "      quickchartButtonEl.classList.add('colab-df-quickchart-complete');\n",
              "    }\n",
              "    (() => {\n",
              "      let quickchartButtonEl =\n",
              "        document.querySelector('#df-073d621e-23a6-46ea-91c3-f37ef8d92937 button');\n",
              "      quickchartButtonEl.style.display =\n",
              "        google.colab.kernel.accessAllowed ? 'block' : 'none';\n",
              "    })();\n",
              "  </script>\n",
              "</div>\n",
              "    </div>\n",
              "  </div>\n"
            ]
          },
          "metadata": {},
          "execution_count": 29
        }
      ]
    },
    {
      "cell_type": "code",
      "source": [
        "submission_data[['customer','merchant']] = submission_data[['customer','merchant']].astype(int)"
      ],
      "metadata": {
        "id": "fzGELPOdGc2r"
      },
      "execution_count": null,
      "outputs": []
    },
    {
      "cell_type": "code",
      "source": [
        "from google.colab import drive\n",
        "drive.mount('/drive')\n",
        "submission_data.to_csv('/drive/My Drive/Amex_submission_R2_model_R1.csv', index=False)"
      ],
      "metadata": {
        "colab": {
          "base_uri": "https://localhost:8080/"
        },
        "id": "1F3i_1wEHE7b",
        "outputId": "783944ad-83ad-435b-dde6-abaf0a9dd292"
      },
      "execution_count": null,
      "outputs": [
        {
          "output_type": "stream",
          "name": "stdout",
          "text": [
            "Drive already mounted at /drive; to attempt to forcibly remount, call drive.mount(\"/drive\", force_remount=True).\n"
          ]
        }
      ]
    },
    {
      "cell_type": "markdown",
      "source": [
        "Experiments"
      ],
      "metadata": {
        "id": "I5VDr6TRORto"
      }
    },
    {
      "cell_type": "markdown",
      "source": [
        "SoloModel Approach"
      ],
      "metadata": {
        "id": "NNmtl5r3aw-I"
      }
    },
    {
      "cell_type": "code",
      "source": [
        "from sklift.models import SoloModel, TwoModels\n",
        "import lightgbm as lgb\n",
        "estimator = lgb.LGBMClassifier(random_state=32)"
      ],
      "metadata": {
        "id": "rN2xDHixv7I7"
      },
      "execution_count": 19,
      "outputs": []
    },
    {
      "cell_type": "code",
      "source": [
        "sm = SoloModel(estimator)\n",
        "sm = sm.fit(features_train[cols_to_scale], labels_train, treat_train)\n",
        "df = pd.read_csv('/content/drive/MyDrive/Amex_Super_Bowl/Amex_Campus_Challenge_Train.csv', chunksize = 1000000)\n",
        "train_score= generate_submission_data_train(sm, scaler, cols_to_scale, df)\n",
        "final_score = round(incr_act_top(input_df=train_score,pred_col='predicted_score',cm_key='customer',treated_col='ind_recommended',actual_col='activation'), 7)\n",
        "print(final_score)"
      ],
      "metadata": {
        "colab": {
          "base_uri": "https://localhost:8080/"
        },
        "id": "sVk-OvNZwr4A",
        "outputId": "c75637f3-30d7-4ed3-cd69-41c0142090ba"
      },
      "execution_count": 20,
      "outputs": [
        {
          "output_type": "stream",
          "name": "stdout",
          "text": [
            "[LightGBM] [Info] Number of positive: 96359, number of negative: 31415\n",
            "[LightGBM] [Warning] Auto-choosing col-wise multi-threading, the overhead of testing was 0.142019 seconds.\n",
            "You can set `force_col_wise=true` to remove the overhead.\n",
            "[LightGBM] [Info] Total Bins 11895\n",
            "[LightGBM] [Info] Number of data points in the train set: 127774, number of used features: 68\n",
            "[LightGBM] [Info] [binary:BoostFromScore]: pavg=0.754136 -> initscore=1.120795\n",
            "[LightGBM] [Info] Start training from score 1.120795\n",
            "   ind_recommended  avg_30d_act\n",
            "0                0     0.011796\n",
            "1                1     0.014684\n",
            "0.0028879\n"
          ]
        }
      ]
    },
    {
      "cell_type": "markdown",
      "source": [
        "Two Model Approach"
      ],
      "metadata": {
        "id": "escpP7E_bHkM"
      }
    },
    {
      "cell_type": "code",
      "source": [
        "from sklift.models import TwoModels\n",
        "\n",
        "\n",
        "tm = TwoModels(\n",
        "    estimator_trmnt=CatBoostClassifier(iterations=20, thread_count=2, random_state=42, silent=True),\n",
        "    estimator_ctrl=CatBoostClassifier(iterations=20, thread_count=2, random_state=42, silent=True),\n",
        "    method='vanilla'\n",
        ")\n",
        "\n",
        "tm = tm.fit(features_train[cols_to_scale], labels_train, treat_train)\n",
        "df = pd.read_csv('/content/drive/MyDrive/Amex_Super_Bowl/Amex_Campus_Challenge_Train.csv', chunksize = 1000000)\n",
        "train_score= generate_submission_data_train(tm, scaler, cols_to_scale, df)\n",
        "final_score = round(incr_act_top(input_df=train_score,pred_col='predicted_score',cm_key='customer',treated_col='ind_recommended',actual_col='activation'), 7)\n",
        "print(final_score)"
      ],
      "metadata": {
        "colab": {
          "base_uri": "https://localhost:8080/"
        },
        "id": "9bBhALqa0w1b",
        "outputId": "019ff59b-a7dc-4ad8-e67f-60fde7406a1e"
      },
      "execution_count": 26,
      "outputs": [
        {
          "output_type": "stream",
          "name": "stdout",
          "text": [
            "   ind_recommended  avg_30d_act\n",
            "0                0     0.007023\n",
            "1                1     0.008556\n",
            "0.0015333\n"
          ]
        }
      ]
    },
    {
      "cell_type": "markdown",
      "source": [
        "Feature Strength of best performing model"
      ],
      "metadata": {
        "id": "Y5SsKloenn_D"
      }
    },
    {
      "cell_type": "markdown",
      "source": [
        "Performance on top 10 features"
      ],
      "metadata": {
        "id": "l5RVPgZgo_tk"
      }
    },
    {
      "cell_type": "code",
      "source": [
        "cols_to_scale= feat_imp.iloc[:10, 0].to_list()"
      ],
      "metadata": {
        "id": "WGho-l2coktQ"
      },
      "execution_count": 19,
      "outputs": []
    },
    {
      "cell_type": "code",
      "source": [
        "def process_data_and_get_score(cols_to_scale):\n",
        "    # Load your DataFrame\n",
        "        df = pd.read_csv('/content/drive/MyDrive/Amex_Super_Bowl/Amex_Campus_Challenge_Train.csv', chunksize=1000000)\n",
        "\n",
        "    # Define columns to drop\n",
        "        columns_to_drop = ['activation', 'ind_recommended']\n",
        "   # Impute missing values\n",
        "        cols_to_impute = cols_to_scale\n",
        "        chunk_sampled = pd.concat([chunk_1,chunk_2 ,chunk_3, chunk_4], axis=0)\n",
        "        chunk_sampled[cols_to_impute] = imputer.fit_transform(chunk_sampled[cols_to_impute])\n",
        "\n",
        "        features = chunk_sampled.drop(columns=columns_to_drop)\n",
        "        labels = chunk_sampled['activation']\n",
        "        treat = chunk_sampled['ind_recommended']\n",
        "\n",
        "        # Scale features\n",
        "        features[cols_to_scale] = scaler.fit_transform(features[cols_to_scale])\n",
        "\n",
        "        # Define and train the model\n",
        "        estimator = CatBoostClassifier(verbose=100, random_state=42, thread_count=1)\n",
        "        ct_model = ClassTransformation(estimator=estimator)\n",
        "        ct_model = ct_model.fit(features[cols_to_scale], labels, treat)\n",
        "\n",
        "        # Generate submission data for training\n",
        "        train_score = generate_submission_data_train(ct_model, scaler, cols_to_scale, df)\n",
        "\n",
        "        # Calculate the final score\n",
        "        final_score = round(incr_act_top(input_df=train_score, pred_col='predicted_score', cm_key='customer',\n",
        "                                        treated_col='ind_recommended', actual_col='activation'), 7)\n",
        "\n",
        "\n",
        "\n",
        "        return final_score\n"
      ],
      "metadata": {
        "id": "vOAE21bnveks"
      },
      "execution_count": 20,
      "outputs": []
    },
    {
      "cell_type": "code",
      "source": [
        "final_score = process_data_and_get_score(cols_to_scale)\n",
        "print(final_score)"
      ],
      "metadata": {
        "colab": {
          "base_uri": "https://localhost:8080/"
        },
        "id": "fMX8kcVL003u",
        "outputId": "8a366877-7a58-4a75-ee49-96497173104a"
      },
      "execution_count": 21,
      "outputs": [
        {
          "output_type": "stream",
          "name": "stdout",
          "text": [
            "Learning rate set to 0.089901\n",
            "0:\tlearn: 0.6899566\ttotal: 65.6ms\tremaining: 1m 5s\n",
            "100:\tlearn: 0.6571797\ttotal: 4.02s\tremaining: 35.8s\n",
            "200:\tlearn: 0.6418986\ttotal: 9.24s\tremaining: 36.7s\n",
            "300:\tlearn: 0.6286491\ttotal: 12.8s\tremaining: 29.7s\n",
            "400:\tlearn: 0.6166446\ttotal: 16.3s\tremaining: 24.3s\n",
            "500:\tlearn: 0.6050806\ttotal: 21s\tremaining: 20.9s\n",
            "600:\tlearn: 0.5943992\ttotal: 25.8s\tremaining: 17.1s\n",
            "700:\tlearn: 0.5843052\ttotal: 32.8s\tremaining: 14s\n",
            "800:\tlearn: 0.5750197\ttotal: 37.1s\tremaining: 9.21s\n",
            "900:\tlearn: 0.5658422\ttotal: 40.6s\tremaining: 4.46s\n",
            "999:\tlearn: 0.5574856\ttotal: 46.4s\tremaining: 0us\n",
            "   ind_recommended  avg_30d_act\n",
            "0                0     0.005371\n",
            "1                1     0.013222\n",
            "0.0078518\n"
          ]
        }
      ]
    },
    {
      "cell_type": "markdown",
      "source": [
        "Performance on mid 10 features"
      ],
      "metadata": {
        "id": "vmcpNbX_1qCn"
      }
    },
    {
      "cell_type": "code",
      "source": [
        "cols_to_scale= feat_imp.iloc[30:40, 0].to_list()\n",
        "final_score = process_data_and_get_score(cols_to_scale)\n",
        "print(final_score)"
      ],
      "metadata": {
        "colab": {
          "base_uri": "https://localhost:8080/"
        },
        "id": "oVkZawck1uHc",
        "outputId": "5b046ab6-c940-4463-cfe1-7cf1bbadd642"
      },
      "execution_count": 22,
      "outputs": [
        {
          "output_type": "stream",
          "name": "stdout",
          "text": [
            "Learning rate set to 0.089901\n",
            "0:\tlearn: 0.6928418\ttotal: 36.4ms\tremaining: 36.4s\n",
            "100:\tlearn: 0.6798501\ttotal: 4.7s\tremaining: 41.8s\n",
            "200:\tlearn: 0.6687929\ttotal: 8.09s\tremaining: 32.2s\n",
            "300:\tlearn: 0.6573034\ttotal: 11.4s\tremaining: 26.6s\n",
            "400:\tlearn: 0.6467309\ttotal: 19.7s\tremaining: 29.5s\n",
            "500:\tlearn: 0.6370928\ttotal: 26.1s\tremaining: 26s\n",
            "600:\tlearn: 0.6280792\ttotal: 33.3s\tremaining: 22.1s\n",
            "700:\tlearn: 0.6195285\ttotal: 38s\tremaining: 16.2s\n",
            "800:\tlearn: 0.6116585\ttotal: 42.3s\tremaining: 10.5s\n",
            "900:\tlearn: 0.6041004\ttotal: 47s\tremaining: 5.16s\n",
            "999:\tlearn: 0.5971931\ttotal: 50.5s\tremaining: 0us\n",
            "   ind_recommended  avg_30d_act\n",
            "0                0     0.005277\n",
            "1                1     0.010656\n",
            "0.0053782\n"
          ]
        }
      ]
    },
    {
      "cell_type": "markdown",
      "source": [
        "Performance on weakest 10 features"
      ],
      "metadata": {
        "id": "Fnh20MhZ2Ftm"
      }
    },
    {
      "cell_type": "code",
      "source": [
        "cols_to_scale= feat_imp.iloc[60:, 0].to_list()\n",
        "final_score = process_data_and_get_score(cols_to_scale)\n",
        "print(final_score)"
      ],
      "metadata": {
        "colab": {
          "base_uri": "https://localhost:8080/"
        },
        "id": "J64AYUnk2MAf",
        "outputId": "1de1bb57-4f6d-47cd-a530-342dcb4cbcf6"
      },
      "execution_count": 23,
      "outputs": [
        {
          "output_type": "stream",
          "name": "stdout",
          "text": [
            "Learning rate set to 0.089901\n",
            "0:\tlearn: 0.6906710\ttotal: 33.9ms\tremaining: 33.9s\n",
            "100:\tlearn: 0.6755678\ttotal: 4.35s\tremaining: 38.7s\n",
            "200:\tlearn: 0.6733957\ttotal: 7.53s\tremaining: 29.9s\n",
            "300:\tlearn: 0.6716171\ttotal: 10.7s\tremaining: 24.8s\n",
            "400:\tlearn: 0.6700959\ttotal: 13.9s\tremaining: 20.8s\n",
            "500:\tlearn: 0.6689740\ttotal: 18.1s\tremaining: 18.1s\n",
            "600:\tlearn: 0.6680573\ttotal: 21.4s\tremaining: 14.2s\n",
            "700:\tlearn: 0.6673080\ttotal: 24.6s\tremaining: 10.5s\n",
            "800:\tlearn: 0.6667572\ttotal: 27.8s\tremaining: 6.91s\n",
            "900:\tlearn: 0.6661141\ttotal: 32s\tremaining: 3.52s\n",
            "999:\tlearn: 0.6656888\ttotal: 35.1s\tremaining: 0us\n",
            "   ind_recommended  avg_30d_act\n",
            "0                0     0.000115\n",
            "1                1     0.000504\n",
            "0.0003891\n"
          ]
        }
      ]
    },
    {
      "cell_type": "code",
      "source": [],
      "metadata": {
        "id": "yqjBf3ZfpLzY"
      },
      "execution_count": null,
      "outputs": []
    }
  ]
}